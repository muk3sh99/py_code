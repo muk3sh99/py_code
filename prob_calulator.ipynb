{
 "cells": [
  {
   "cell_type": "code",
   "execution_count": 3,
   "id": "5ee35a48",
   "metadata": {},
   "outputs": [
    {
     "name": "stdout",
     "output_type": "stream",
     "text": [
      "Enter girl name you want to ask out: Na\n",
      "Chance of saying Yes 48.9\n",
      "============================================================\n",
      "Chance of saying no:  51.1\n",
      "============================================================\n",
      "Dont go boy your chance of rejection by Na is 51.1 boy, oops sad!\n"
     ]
    }
   ],
   "source": [
    "#some random code when I was bored\n",
    "#chance of saying yes by girl, when you ask her out\n",
    "#input constraint: girl name \n",
    "cr_name = input('Enter girl name you want to ask out: ')\n",
    "import random\n",
    "em_yes = []\n",
    "em_no = []\n",
    "rang = 1000\n",
    "for i in range(rang):\n",
    "    a = random.randint(0,1)\n",
    "    if a==1:\n",
    "        em_yes.append(a)\n",
    "    if a==0:\n",
    "        em_no.append(a)\n",
    "yes_len = len(em_yes)\n",
    "no_len = len(em_no)\n",
    "yes_per = (yes_len/rang)*100\n",
    "print(\"Chance of saying Yes\",yes_per)\n",
    "print(\"===\"*20)\n",
    "no_per = (no_len/rang)*100\n",
    "print(\"Chance of saying no: \",no_per)\n",
    "print(\"===\"*20)\n",
    "if yes_per>no_per:\n",
    "        print(\"Your chance of saying yes by \",cr_name,' is',yes_per,' you go boy')\n",
    "elif yes_per==no_per:\n",
    "        print(\"Your chance of saying yes by \",cr_name,' is',yes_per,' I am not sure about this boy :(' )   \n",
    "else:\n",
    "    print(\"Dont go boy your chance of rejection by\",cr_name,'is',no_per,'boy, oops sad!')"
   ]
  },
  {
   "cell_type": "code",
   "execution_count": null,
   "id": "500dbaa8",
   "metadata": {},
   "outputs": [],
   "source": []
  }
 ],
 "metadata": {
  "kernelspec": {
   "display_name": "Python 3 (ipykernel)",
   "language": "python",
   "name": "python3"
  },
  "language_info": {
   "codemirror_mode": {
    "name": "ipython",
    "version": 3
   },
   "file_extension": ".py",
   "mimetype": "text/x-python",
   "name": "python",
   "nbconvert_exporter": "python",
   "pygments_lexer": "ipython3",
   "version": "3.11.5"
  }
 },
 "nbformat": 4,
 "nbformat_minor": 5
}
