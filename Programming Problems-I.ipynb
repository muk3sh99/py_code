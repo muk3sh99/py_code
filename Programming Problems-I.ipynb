{
 "cells": [
  {
   "cell_type": "markdown",
   "id": "a008d09a",
   "metadata": {},
   "source": [
    "##### Sum of n numbers\n",
    "-Constrant:\n",
    "- Given length of n space seperated number, print its sum\n",
    "- If length of number is 0 or input is 0, return 0 \n",
    "- If user inputs less or more than n number, return enter n number"
   ]
  },
  {
   "cell_type": "code",
   "execution_count": 1,
   "id": "91f44d9b",
   "metadata": {},
   "outputs": [
    {
     "name": "stdout",
     "output_type": "stream",
     "text": [
      "Enter number of elements: 4\n",
      "Enter 4 elements with space: 1 2 4 5\n",
      "Sum of 4 elements is: 12\n"
     ]
    }
   ],
   "source": [
    "n = int(input(\"Enter number of elements: \"))\n",
    "if n==0: #boundry case: if number of elements=0,return 0\n",
    "    print('0')\n",
    "else:\n",
    "    a = input('Enter {} elements with space: '.format(n)) #take input as string\n",
    "    #print(type(a))\n",
    "    a = a.split() #split string to a list\n",
    "    if len(a) !=n: #boundry case1\n",
    "        print('Enter {} Elements, Please rerun this code'.format(n))\n",
    "        \n",
    "    else:   \n",
    "        _s=0 #_s is integer\n",
    "        for ele in a:\n",
    "            _s+=int(ele) #converting to integer,try print(type(int(ele)))\n",
    "        print('Sum of {} elements is: {}'.format(n,_s))\n"
   ]
  },
  {
   "cell_type": "markdown",
   "id": "81eca567",
   "metadata": {},
   "source": [
    "### Second largest element in a list\n",
    "- Given comma seperated n input: 1,2,3,4,5 find second largest number\n",
    "- If first max and second max is same i.e 1,1 print error\n",
    "- If number of elements n<2,print error"
   ]
  },
  {
   "cell_type": "code",
   "execution_count": 2,
   "id": "9f01e44c",
   "metadata": {},
   "outputs": [
    {
     "name": "stdout",
     "output_type": "stream",
     "text": [
      "Enter comma seperated values: 1,2,1\n",
      "Second Max is:  1\n",
      "First max is:  2\n"
     ]
    }
   ],
   "source": [
    "n = input(\"Enter comma seperated values: \")\n",
    "l = [int(i) for i in n.split(',')]\n",
    "l1 = len(l)\n",
    "#boundry case\n",
    "if l1<2:\n",
    "    print(\"Error\")\n",
    "#initialize negative infinity and assign it as first_max and second_max\n",
    "neg_inf = float('-inf')\n",
    "#print(neg_inf)\n",
    "first_max = neg_inf\n",
    "second_max = neg_inf\n",
    "for i in range(l1):\n",
    "    if l[i]>first_max:\n",
    "        second_max=first_max\n",
    "        first_max=l[i]\n",
    "    elif l[i]>second_max and first_max !=l[i]:\n",
    "        second_max=l[i] \n",
    "if first_max==second_max or second_max==neg_inf:\n",
    "    print('Error')\n",
    "else:\n",
    "    print(\"Second Max is: \",second_max)\n",
    "    print(\"First max is: \",first_max)\n"
   ]
  },
  {
   "cell_type": "markdown",
   "id": "32832faf",
   "metadata": {},
   "source": [
    "### FizzBuzz \n",
    "-given n range of numbers, if it is divided by 3 and 5 both return \"FizzBuzz\", elif divided only by 3 return \"Fizz\", elif Divided only by 5 return 'Buzz', else return number as it is."
   ]
  },
  {
   "cell_type": "code",
   "execution_count": 3,
   "id": "59ebd17a",
   "metadata": {},
   "outputs": [
    {
     "name": "stdout",
     "output_type": "stream",
     "text": [
      "Enter range: 20\n",
      "1,2,Fizz,4,Buzz,Fizz,7,8,Fizz,Buzz,11,Fizz,13,14,FizzBuzz,16,17,Fizz,19,Buzz\n"
     ]
    }
   ],
   "source": [
    "n = int(input(\"Enter range: \"))\n",
    "sep=','\n",
    "for ele in range(1,n+1):\n",
    "    if ele==n:\n",
    "        sep = '\\n' #to remove last comma\n",
    "    if ele % 15==0:\n",
    "        print(\"FizzBuzz\",end=sep)\n",
    "    elif ele %3==0:\n",
    "        print(\"Fizz\",end=sep)\n",
    "    elif ele %5==0:\n",
    "        print(\"Buzz\",end=sep)\n",
    "    else:\n",
    "        print(ele,end=sep)\n"
   ]
  },
  {
   "cell_type": "markdown",
   "id": "ef401a49",
   "metadata": {},
   "source": [
    "### Greetings\n",
    "- Just a random program\n",
    "- Given user input name, greet him on current time basis(cpu time)\n",
    "- if time is 1  to 12: greet name+good morning\n",
    "- if time is 13  to 16 : greet name+good afternoon\n",
    "- If time is 16 pm to 20 pm: greet name+good evening\n",
    "- if time is 20  to 1 : greet name+good night"
   ]
  },
  {
   "cell_type": "code",
   "execution_count": 4,
   "id": "29526b9b",
   "metadata": {},
   "outputs": [
    {
     "name": "stdout",
     "output_type": "stream",
     "text": [
      "Enter your name: Mukesh\n",
      "Hello Mukesh, Good Afternoon\n"
     ]
    }
   ],
   "source": [
    "import datetime\n",
    "curr_time = datetime.datetime.now()\n",
    "#print(curr_time)\n",
    "#convert this time to str, so we can only extract hour and minute\n",
    "ex_str =str(curr_time)\n",
    "ex_str=ex_str[11:13] #extract value of hour only\n",
    "#print(ex_str)\n",
    "#take user input\n",
    "name = input(\"Enter your name: \")\n",
    "if int(ex_str)>=13 and int(ex_str)<=16: #convert str to int to compare\n",
    "    print(\"Hello {0}, {1}\".format(name,'Good Afternoon'))\n",
    "elif int(ex_str)>16 and int(ex_str)<=20:\n",
    "    print(\"Hello {0}, {1}\".format(name,'Good Evening'))\n",
    "elif int(ex_str)>=21 and int(ex_str)<=23:\n",
    "    print('Hello {0},{1}'.format(name,'Good Night'))\n",
    "else: #from 12 am to 12 noon\n",
    "    print(\"Hello {0},{1}\".format(name,'Good Morning'))"
   ]
  },
  {
   "cell_type": "markdown",
   "id": "cad1d398",
   "metadata": {},
   "source": [
    "####  Love Calculator\n",
    "- Simple random love calculator with numpy generated number"
   ]
  },
  {
   "cell_type": "code",
   "execution_count": 5,
   "id": "c8a59819",
   "metadata": {},
   "outputs": [
    {
     "name": "stdout",
     "output_type": "stream",
     "text": [
      "Enter your name: Mukesh\n",
      "Enter your crush name: Namitha\n",
      "Love Percentage Between Mukesh and Namitha is 44.17\n"
     ]
    }
   ],
   "source": [
    "import numpy as np\n",
    "name1 = input('Enter your name: ')\n",
    "name2 = input(\"Enter your crush name: \")\n",
    "a = np.random.rand() #generate random number from 0 to 1(1 is 100 %)\n",
    "a = a*100 #converting into terms of 100\n",
    "a = round(a,2) #round it to two decimal\n",
    "print(\"Love Percentage Between {} and {} is {}\".format(name1,name2,a))\n",
    "#sad output\n",
    "#lets modify to impress our crush ;)"
   ]
  },
  {
   "cell_type": "code",
   "execution_count": 6,
   "id": "0face74c",
   "metadata": {},
   "outputs": [
    {
     "name": "stdout",
     "output_type": "stream",
     "text": [
      "Enter your name: Mukesh\n",
      "Enter your crush name: Namitha\n",
      "19.16\n",
      "Love Percentage Between Mukesh and Namitha is: 54.16 %\n"
     ]
    }
   ],
   "source": [
    "name1= input(\"Enter your name: \") #First letter should be capital\n",
    "name2= input(\"Enter your crush name: \")\n",
    "b = np.random.rand()\n",
    "b = round(b*100,2)\n",
    "print(b) #this is actual generated number\n",
    "if list(name1)==list(\"Mukesh\") and list(name2)==list(\"Namitha\") and b<65: #You can replace those values\n",
    "    print(\"Love Percentage Between {} and {} is: {} %\".format(name1,name2,b+35)) #only add 30 when actual % is less than 65\n",
    "else:\n",
    "    print(\"Love Percentage Between {} and {} is: {} %\".format(name1,name2,b))\n",
    "#hope your crush doesnot know how code works ;)    \n",
    "#Character 'Namitha' is an illusion here ;)"
   ]
  },
  {
   "cell_type": "code",
   "execution_count": null,
   "id": "d2fec5ca",
   "metadata": {},
   "outputs": [],
   "source": []
  },
  {
   "cell_type": "code",
   "execution_count": null,
   "id": "90c5351e",
   "metadata": {},
   "outputs": [],
   "source": []
  }
 ],
 "metadata": {
  "kernelspec": {
   "display_name": "Python 3 (ipykernel)",
   "language": "python",
   "name": "python3"
  },
  "language_info": {
   "codemirror_mode": {
    "name": "ipython",
    "version": 3
   },
   "file_extension": ".py",
   "mimetype": "text/x-python",
   "name": "python",
   "nbconvert_exporter": "python",
   "pygments_lexer": "ipython3",
   "version": "3.11.5"
  }
 },
 "nbformat": 4,
 "nbformat_minor": 5
}
