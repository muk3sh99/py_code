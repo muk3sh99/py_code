{
 "cells": [
  {
   "cell_type": "code",
   "execution_count": 4,
   "id": "f111026f",
   "metadata": {},
   "outputs": [
    {
     "name": "stdout",
     "output_type": "stream",
     "text": [
      "###-###-5678\n"
     ]
    }
   ],
   "source": [
    "#Phone number masking\n",
    "#Given 10 digits number, return ###-###-0000\n",
    "import re\n",
    "def phonenummask(num):\n",
    "    #remove non-decimal character\n",
    "    digit =re.sub('\\D','',num)\n",
    "    #print(digit) \n",
    "    #print(len(digit))\n",
    "    if len(digit)!=10: #boundry case\n",
    "        print(\"Not Valid Number\")\n",
    "    else:\n",
    "        mask = '###-###-{}'.format(digit[-4:])\n",
    "        print(mask)\n",
    "phonenummask('98(123)456-78')"
   ]
  },
  {
   "cell_type": "code",
   "execution_count": 5,
   "id": "f4631d16",
   "metadata": {},
   "outputs": [
    {
     "name": "stdout",
     "output_type": "stream",
     "text": [
      "Enter num with country code: +977-98(12)34-5678\n",
      "13\n",
      "9779812345678\n",
      "+(977)-###-###-5678\n"
     ]
    }
   ],
   "source": [
    "#Given phone number with country code, \n",
    "# Return (+Country code) Masked phone num\n",
    "num = input(\"Enter num with country code: \")\n",
    "digit = re.sub(\"\\D\",'',num)\n",
    "b = len(digit)\n",
    "print(b)\n",
    "print(digit)\n",
    "if b==13:\n",
    "    mask ='+({}{}{})-###-###-{}'.format(digit[0],digit[1],digit[2],digit[-4:])\n",
    "    print(mask)\n",
    "elif b==12:\n",
    "    mask = '+({}{})-###-###-{}'.format(digit[0],digit[1],digit[-4:])\n",
    "    print(mask)\n",
    "elif b==11:\n",
    "    mask = '+({})-###-###-{}'.format(digit[0],digit[-4:])\n",
    "    print(mask)\n",
    "else:\n",
    "    print(\"Invaild number\")"
   ]
  },
  {
   "cell_type": "code",
   "execution_count": 1,
   "id": "ade50cbf",
   "metadata": {},
   "outputs": [
    {
     "name": "stdout",
     "output_type": "stream",
     "text": [
      "Enter email:muk3sh99@gmail.com\n",
      "mu#####@l.com\n"
     ]
    }
   ],
   "source": [
    "#simple email masking without boundry cases\n",
    "def maskemail(email):\n",
    "    if '@' in email:\n",
    "        name,domain=email.split('@') #seperating name,domain by @\n",
    "        return (\"{}{}#####@{}\".format(name[0],name[1],domain[-5:])) #try replacing @, domain value[-5:] from last index to 5th\n",
    "    \n",
    "    else:\n",
    "        print(\"Enter valid email\")\n",
    "        exit()\n",
    "email = input(\"Enter email:\")\n",
    "print(maskemail(email))    "
   ]
  },
  {
   "cell_type": "code",
   "execution_count": null,
   "id": "7c5e0417",
   "metadata": {},
   "outputs": [],
   "source": []
  }
 ],
 "metadata": {
  "kernelspec": {
   "display_name": "Python 3 (ipykernel)",
   "language": "python",
   "name": "python3"
  },
  "language_info": {
   "codemirror_mode": {
    "name": "ipython",
    "version": 3
   },
   "file_extension": ".py",
   "mimetype": "text/x-python",
   "name": "python",
   "nbconvert_exporter": "python",
   "pygments_lexer": "ipython3",
   "version": "3.11.5"
  }
 },
 "nbformat": 4,
 "nbformat_minor": 5
}
