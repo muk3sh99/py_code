{
 "cells": [
  {
   "cell_type": "code",
   "execution_count": 3,
   "id": "9d162233",
   "metadata": {},
   "outputs": [
    {
     "name": "stdout",
     "output_type": "stream",
     "text": [
      "['my', 'name', 'heisenberg']\n",
      "75.0 percentage\n"
     ]
    }
   ],
   "source": [
    "#just testing text matching problem\n",
    "txt1 = \"Say my name Heisenberg\"\n",
    "txt2 = 'my name is Heisenberg'\n",
    "\n",
    "#converting all words to lower case\n",
    "txt1=txt1.lower()\n",
    "txt2=txt2.lower()\n",
    "\n",
    "#converting string to list\n",
    "lis_txt1 = txt1.split()\n",
    "lis_txt2 = txt2.split()\n",
    "\n",
    "#legth of list\n",
    "len1 = len(lis_txt1)\n",
    "len2 = len(lis_txt2)\n",
    "\n",
    "#computing max length for dividing purpose\n",
    "max_len = max(len1,len2)\n",
    "\n",
    "#empty list to store matching word\n",
    "match_txt = []\n",
    "for i in range (len1):\n",
    "    for j in range (len2):\n",
    "        if lis_txt1[i]==lis_txt2[j]:\n",
    "            #appending matching words to match_txt\n",
    "             match_txt.append(lis_txt1[i])  \n",
    "print(match_txt)\n",
    "match_txt_len = len(match_txt)\n",
    "\n",
    "#percentage of matching word in 2 decimal points\n",
    "per_match_word = round((match_txt_len/max_len)*100,2)\n",
    "print(per_match_word,'percentage')\n",
    "           "
   ]
  },
  {
   "cell_type": "code",
   "execution_count": null,
   "id": "3f02783c",
   "metadata": {},
   "outputs": [],
   "source": [
    "#i loops run for len1 times\n",
    "#j loops run for len2 times for each iteration of i\n",
    "# so total time complexity O(len1*len2)\n",
    "#space complexity: at worst case(O(len1)) to store matching words"
   ]
  }
 ],
 "metadata": {
  "kernelspec": {
   "display_name": "Python 3 (ipykernel)",
   "language": "python",
   "name": "python3"
  },
  "language_info": {
   "codemirror_mode": {
    "name": "ipython",
    "version": 3
   },
   "file_extension": ".py",
   "mimetype": "text/x-python",
   "name": "python",
   "nbconvert_exporter": "python",
   "pygments_lexer": "ipython3",
   "version": "3.11.5"
  }
 },
 "nbformat": 4,
 "nbformat_minor": 5
}
