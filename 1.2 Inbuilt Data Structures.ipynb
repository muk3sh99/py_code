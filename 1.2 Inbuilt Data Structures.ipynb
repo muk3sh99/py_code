{
 "cells": [
  {
   "cell_type": "markdown",
   "id": "57acd697",
   "metadata": {},
   "source": [
    "# Data Structure\n",
    "- A data structure is a collection of elements that are stored in some way. The most commonly used data structure in\n",
    " Python is the sequence."
   ]
  },
  {
   "cell_type": "markdown",
   "id": "024bc6b3",
   "metadata": {},
   "source": [
    "#### Lists\n",
    "- Lists are the sequential data structures, as each element in it is placed in a sequential manner.\n",
    "- List is a collection of items(strings or integers or float values or other list).\n",
    "- Enclosed in [].\n",
    "- Each item in the list has an assigned index value and we can directly access the elements using their respective indexes.\n",
    "- Each item in the list are seperated by commas and the order in which the items are stored is the same as the order in which they are inserted.\n",
    "- Lists are mutable. It means the items in a list can be modified as per our requirements."
   ]
  },
  {
   "cell_type": "code",
   "execution_count": 1,
   "id": "19457b2b",
   "metadata": {},
   "outputs": [
    {
     "name": "stdout",
     "output_type": "stream",
     "text": [
      "a is a data type of:  <class 'list'>\n",
      "**********\n",
      "<class 'list'>\n",
      "[[1, 1], [2, 3]]\n"
     ]
    }
   ],
   "source": [
    "a = [1,2,3,4] #list of int\n",
    "b = [1,1.2,'a'] #list of multiple data types\n",
    "c = [[1,1],[2,3]] #list of list\n",
    "print(\"a is a data type of: \",type(a))\n",
    "print(\"*\"*10)\n",
    "print(type(b))\n",
    "print(c)\n",
    "#print(type(c))"
   ]
  },
  {
   "cell_type": "code",
   "execution_count": 2,
   "id": "9a11d538",
   "metadata": {},
   "outputs": [
    {
     "name": "stdout",
     "output_type": "stream",
     "text": [
      "4\n",
      "2\n"
     ]
    }
   ],
   "source": [
    "#List length\n",
    "print(len(a))\n",
    "print(len(c)) "
   ]
  },
  {
   "cell_type": "code",
   "execution_count": 3,
   "id": "057dc28f",
   "metadata": {},
   "outputs": [
    {
     "name": "stdout",
     "output_type": "stream",
     "text": [
      "['one', 'two', 'three', 'four']\n"
     ]
    }
   ],
   "source": [
    "#List insert\n",
    "#list insert take 2 parameter(index position,value)\n",
    "a = ['one','three','four']\n",
    "a.insert(1,'two') #insert element 'two' in position 1\n",
    "print(a)"
   ]
  },
  {
   "cell_type": "code",
   "execution_count": 4,
   "id": "f38764aa",
   "metadata": {},
   "outputs": [
    {
     "name": "stdout",
     "output_type": "stream",
     "text": [
      "['one', 'three', 'four']\n"
     ]
    }
   ],
   "source": [
    "#List remove\n",
    "#syantax= a.remove('element')\n",
    "a.remove('two')\n",
    "print(a)"
   ]
  },
  {
   "cell_type": "code",
   "execution_count": 5,
   "id": "4f102b55",
   "metadata": {},
   "outputs": [
    {
     "name": "stdout",
     "output_type": "stream",
     "text": [
      "['one', 'three', 'two']\n"
     ]
    },
    {
     "ename": "ValueError",
     "evalue": "list.remove(x): x not in list",
     "output_type": "error",
     "traceback": [
      "\u001b[1;31m---------------------------------------------------------------------------\u001b[0m",
      "\u001b[1;31mValueError\u001b[0m                                Traceback (most recent call last)",
      "Cell \u001b[1;32mIn[5], line 5\u001b[0m\n\u001b[0;32m      3\u001b[0m \u001b[38;5;28mprint\u001b[39m(a)\n\u001b[0;32m      4\u001b[0m \u001b[38;5;66;03m#if element is not present it throws an error\u001b[39;00m\n\u001b[1;32m----> 5\u001b[0m a\u001b[38;5;241m.\u001b[39mremove(\u001b[38;5;124m'\u001b[39m\u001b[38;5;124mfive\u001b[39m\u001b[38;5;124m'\u001b[39m)\n",
      "\u001b[1;31mValueError\u001b[0m: list.remove(x): x not in list"
     ]
    }
   ],
   "source": [
    "a = ['one','two','three','two']\n",
    "a.remove('two') #remove first occurrence of two\n",
    "print(a)\n",
    "#if element is not present it throws an error\n",
    "a.remove('five')"
   ]
  },
  {
   "cell_type": "code",
   "execution_count": 6,
   "id": "5ef6fbdf",
   "metadata": {},
   "outputs": [
    {
     "name": "stdout",
     "output_type": "stream",
     "text": [
      "['one', 'two', 'three', 'four']\n"
     ]
    }
   ],
   "source": [
    "#List append and extend\n",
    "a = ['one','two','three']\n",
    "a.append('four') #append will add items at end\n",
    "print(a)"
   ]
  },
  {
   "cell_type": "code",
   "execution_count": 7,
   "id": "a77a38f2",
   "metadata": {},
   "outputs": [
    {
     "name": "stdout",
     "output_type": "stream",
     "text": [
      "['one', 'two', 'three', ['four', 'five']]\n",
      "4\n"
     ]
    }
   ],
   "source": [
    "a = ['one','two','three']\n",
    "b = ['four','five']\n",
    "a.append(b) \n",
    "print(a)\n",
    "print(len(a))"
   ]
  },
  {
   "cell_type": "code",
   "execution_count": 8,
   "id": "8bb86ceb",
   "metadata": {},
   "outputs": [
    {
     "name": "stdout",
     "output_type": "stream",
     "text": [
      "['one', 'two', 'three', 'four']\n"
     ]
    }
   ],
   "source": [
    "a = ['one','two']\n",
    "b = ['three','four']\n",
    "a.extend(b)\n",
    "print(a)"
   ]
  },
  {
   "cell_type": "code",
   "execution_count": 9,
   "id": "d7aec626",
   "metadata": {},
   "outputs": [
    {
     "name": "stdout",
     "output_type": "stream",
     "text": [
      "['two', 'three']\n"
     ]
    }
   ],
   "source": [
    "#List Delete\n",
    "#syntax: del var_name[index]\n",
    "lst = ['one','two','three']\n",
    "del lst[0] #first element in list\n",
    "print(lst)"
   ]
  },
  {
   "cell_type": "code",
   "execution_count": 10,
   "id": "1946af17",
   "metadata": {},
   "outputs": [
    {
     "name": "stdout",
     "output_type": "stream",
     "text": [
      "five\n"
     ]
    }
   ],
   "source": [
    "#or we can use pop() method\n",
    "a = ['one','two','three','four','five']\n",
    "b = a.pop() #remove last element from list\n",
    "print(b) "
   ]
  },
  {
   "cell_type": "code",
   "execution_count": 11,
   "id": "2835da5e",
   "metadata": {},
   "outputs": [
    {
     "name": "stdout",
     "output_type": "stream",
     "text": [
      "['one', 'two', 'four']\n"
     ]
    }
   ],
   "source": [
    "a.pop(2) #2nd index of list\n",
    "print(a) #index starts from 0"
   ]
  },
  {
   "cell_type": "code",
   "execution_count": 12,
   "id": "9c306684",
   "metadata": {},
   "outputs": [
    {
     "name": "stdout",
     "output_type": "stream",
     "text": [
      "Found\n",
      "-_* -_* -_* \n",
      "Not Found\n"
     ]
    }
   ],
   "source": [
    "#List related keywords in Python\n",
    "#keyword in used to check whether the item is present in a list\n",
    "lst = ['apple','ball','cat','dog']\n",
    "if 'apple' in lst:\n",
    "    print(\"Found\")\n",
    "print('-_* '*3)\n",
    "if 'elephent' in lst:\n",
    "    print(\"Found\")\n",
    "else:\n",
    "    print(\"Not Found\")"
   ]
  },
  {
   "cell_type": "code",
   "execution_count": 13,
   "id": "1f0ffcac",
   "metadata": {},
   "outputs": [
    {
     "name": "stdout",
     "output_type": "stream",
     "text": [
      "True\n"
     ]
    }
   ],
   "source": [
    "if 'hat' not in lst: \n",
    "    print(\"True\")"
   ]
  },
  {
   "cell_type": "code",
   "execution_count": 14,
   "id": "0995f712",
   "metadata": {},
   "outputs": [
    {
     "name": "stdout",
     "output_type": "stream",
     "text": [
      "['four', 'three', 'two', 'one']\n"
     ]
    }
   ],
   "source": [
    "#List Reverse\n",
    "lst = ['one','two','three','four']\n",
    "lst.reverse() #reverse lst and store within same variable\n",
    "print(lst)"
   ]
  },
  {
   "cell_type": "code",
   "execution_count": 15,
   "id": "8a7ace3d",
   "metadata": {},
   "outputs": [
    {
     "name": "stdout",
     "output_type": "stream",
     "text": [
      "[1, 2, 3, 4, 5]\n"
     ]
    }
   ],
   "source": [
    "#list sorting\n",
    "a = [1,3,5,4,2]\n",
    "a.sort()\n",
    "print(a)"
   ]
  },
  {
   "cell_type": "code",
   "execution_count": 20,
   "id": "5736ca35",
   "metadata": {},
   "outputs": [
    {
     "name": "stdout",
     "output_type": "stream",
     "text": [
      "[5, 4, 3, 2, 1]\n",
      "[1, 3, 2, 5, 4]\n"
     ]
    }
   ],
   "source": [
    "a = [1,3,2,5,4]\n",
    "b = sorted(a,reverse=True) #reverse=True sort in Descending order, try: sorted(a)\n",
    "print(b) #assign new variable to sorted list\n",
    "print(a) #original list remain unchanged\n",
    "#int and string both in same list cannot be sorted"
   ]
  },
  {
   "cell_type": "code",
   "execution_count": 22,
   "id": "74ae6007",
   "metadata": {},
   "outputs": [
    {
     "ename": "TypeError",
     "evalue": "'<' not supported between instances of 'str' and 'float'",
     "output_type": "error",
     "traceback": [
      "\u001b[1;31m---------------------------------------------------------------------------\u001b[0m",
      "\u001b[1;31mTypeError\u001b[0m                                 Traceback (most recent call last)",
      "Cell \u001b[1;32mIn[22], line 2\u001b[0m\n\u001b[0;32m      1\u001b[0m a \u001b[38;5;241m=\u001b[39m [\u001b[38;5;241m1\u001b[39m,\u001b[38;5;241m1.2\u001b[39m,\u001b[38;5;241m3\u001b[39m,\u001b[38;5;241m2\u001b[39m,\u001b[38;5;241m1.1\u001b[39m,\u001b[38;5;124m'\u001b[39m\u001b[38;5;124ma\u001b[39m\u001b[38;5;124m'\u001b[39m]\n\u001b[1;32m----> 2\u001b[0m a\u001b[38;5;241m.\u001b[39msort()\n\u001b[0;32m      3\u001b[0m \u001b[38;5;28mprint\u001b[39m(a)\n",
      "\u001b[1;31mTypeError\u001b[0m: '<' not supported between instances of 'str' and 'float'"
     ]
    }
   ],
   "source": [
    "a = [1,1.2,3,2,1.1,'a']\n",
    "a.sort()\n",
    "print(a)"
   ]
  },
  {
   "cell_type": "code",
   "execution_count": 33,
   "id": "fedf1ad3",
   "metadata": {},
   "outputs": [],
   "source": [
    "#List having multiple reference\n",
    "lst = [1,2,3,4,5]\n",
    "abc = lst\n",
    "abc.append(6)"
   ]
  },
  {
   "cell_type": "code",
   "execution_count": 35,
   "id": "97ccd38e",
   "metadata": {},
   "outputs": [
    {
     "name": "stdout",
     "output_type": "stream",
     "text": [
      "[1, 2, 3, 4, 5, 6]\n"
     ]
    }
   ],
   "source": [
    "print(lst)\n",
    "#since abc referencing to lst, manipulating abc also affect lst\n",
    "#print(id(lst))\n",
    "#print(id(abc))"
   ]
  },
  {
   "cell_type": "code",
   "execution_count": 55,
   "id": "85023270",
   "metadata": {},
   "outputs": [
    {
     "name": "stdout",
     "output_type": "stream",
     "text": [
      "['one', 'two', 'three', 'four']\n"
     ]
    }
   ],
   "source": [
    "#String split to create a list\n",
    "a = 'one,two,three,four'\n",
    "b = a.split(',')\n",
    "print(b)\n"
   ]
  },
  {
   "cell_type": "code",
   "execution_count": 8,
   "id": "b03935e1",
   "metadata": {},
   "outputs": [
    {
     "name": "stdout",
     "output_type": "stream",
     "text": [
      "['This', 'a', 'example', 'of', 'list', 'split']\n"
     ]
    }
   ],
   "source": [
    "a = 'This a example of list split'\n",
    "b = a.split() #default split is white-character: space or tab\n",
    "print(b)\n",
    "#we can also use number and special character as seperator, but these should be present in input string."
   ]
  },
  {
   "cell_type": "code",
   "execution_count": 1,
   "id": "9f46c0d5",
   "metadata": {},
   "outputs": [
    {
     "name": "stdout",
     "output_type": "stream",
     "text": [
      "[10, 20, 30, 40, 50, 60, 70, 80, 90]\n"
     ]
    }
   ],
   "source": [
    "#List Slicing\n",
    "numbers = [10,20,30,40,50,60,70,80,90]\n",
    "#print all numbers\n",
    "print(numbers[:])"
   ]
  },
  {
   "cell_type": "code",
   "execution_count": 3,
   "id": "fbf87d32",
   "metadata": {},
   "outputs": [
    {
     "name": "stdout",
     "output_type": "stream",
     "text": [
      "[20, 30, 40, 50]\n"
     ]
    }
   ],
   "source": [
    "#print from 1st index to 4th index\n",
    "print(numbers[1:5]) #exclude 5th character"
   ]
  },
  {
   "cell_type": "code",
   "execution_count": 5,
   "id": "5113f7a4",
   "metadata": {},
   "outputs": [
    {
     "name": "stdout",
     "output_type": "stream",
     "text": [
      "[10, 20, 30, 40, 50, 60, 70, 80, 90]\n",
      "[10, 30, 50, 70, 90]\n"
     ]
    }
   ],
   "source": [
    "print(numbers)\n",
    "print(numbers[::2]) #step size 2, start,end,stepsize"
   ]
  },
  {
   "cell_type": "code",
   "execution_count": 6,
   "id": "c637b920",
   "metadata": {},
   "outputs": [
    {
     "name": "stdout",
     "output_type": "stream",
     "text": [
      "[1, 2, 3, 4, 'a', 'b', 'c']\n"
     ]
    }
   ],
   "source": [
    "#List extend using + operators\n",
    "lst1 = [1,2,3,4]\n",
    "lst2 = ['a','b','c']\n",
    "print(lst1+lst2)"
   ]
  },
  {
   "cell_type": "code",
   "execution_count": 7,
   "id": "581895d6",
   "metadata": {},
   "outputs": [
    {
     "data": {
      "text/plain": [
       "2"
      ]
     },
     "execution_count": 7,
     "metadata": {},
     "output_type": "execute_result"
    }
   ],
   "source": [
    "#List count\n",
    "#Counts numbers of occurrence of given element in list\n",
    "a = [1,2,1,3,4,5,3,5,6]\n",
    "a.count(3) #frequency of 3 in a"
   ]
  },
  {
   "cell_type": "code",
   "execution_count": 8,
   "id": "23d1b309",
   "metadata": {},
   "outputs": [
    {
     "name": "stdout",
     "output_type": "stream",
     "text": [
      "one\n",
      "two\n",
      "three\n",
      "four\n"
     ]
    }
   ],
   "source": [
    "#List looping\n",
    "lst = ['one','two','three','four']\n",
    "for ele in lst:\n",
    "    print(ele)"
   ]
  },
  {
   "cell_type": "markdown",
   "id": "595d9da1",
   "metadata": {},
   "source": [
    "### List Comprehensions\n",
    "- List comprehensions provide a concise way to create lists.\n",
    "- Common applications are to make new lists where each element is the result of some operations applied to each member of another sequence or iterable, or to create a subsequence of those elements that satisfy certain condition."
   ]
  },
  {
   "cell_type": "code",
   "execution_count": 16,
   "id": "d6749df5",
   "metadata": {},
   "outputs": [
    {
     "name": "stdout",
     "output_type": "stream",
     "text": [
      "[0, 1, 4, 9, 16, 25, 36, 49, 64, 81]\n"
     ]
    }
   ],
   "source": [
    "#without list comprehensions\n",
    "squares = []\n",
    "for i in range(10):\n",
    "    #print(i**2)\n",
    "    squares.append(i**2)\n",
    "print(squares)\n"
   ]
  },
  {
   "cell_type": "code",
   "execution_count": 18,
   "id": "8dca7f9b",
   "metadata": {},
   "outputs": [
    {
     "name": "stdout",
     "output_type": "stream",
     "text": [
      "[0, 1, 4, 9, 16, 25, 36, 49, 64, 81]\n"
     ]
    }
   ],
   "source": [
    "#with list comprehension\n",
    "squares = [i**2 for i in range(10)]\n",
    "print(squares)"
   ]
  },
  {
   "cell_type": "code",
   "execution_count": 19,
   "id": "3f9a7311",
   "metadata": {},
   "outputs": [
    {
     "name": "stdout",
     "output_type": "stream",
     "text": [
      "[-40, -20, 0, 20, 40, 60, 80]\n"
     ]
    }
   ],
   "source": [
    "lst = [-20,-10,0,10,20,30,40]\n",
    "new_lst = [i*2 for i in lst]\n",
    "print(new_lst)"
   ]
  },
  {
   "cell_type": "code",
   "execution_count": 21,
   "id": "73efa076",
   "metadata": {},
   "outputs": [
    {
     "name": "stdout",
     "output_type": "stream",
     "text": [
      "[0, 10, 20, 30, 40]\n"
     ]
    }
   ],
   "source": [
    "#filter negative number\n",
    "new_lst = [i for i in lst if i>=0]\n",
    "print(new_lst)"
   ]
  },
  {
   "cell_type": "code",
   "execution_count": 25,
   "id": "dabc8420",
   "metadata": {},
   "outputs": [
    {
     "name": "stdout",
     "output_type": "stream",
     "text": [
      "[(0, 0), (1, 1), (2, 4), (3, 9), (4, 16), (5, 25), (6, 36), (7, 49), (8, 64), (9, 81)]\n"
     ]
    }
   ],
   "source": [
    "#create a list of tuples like (number,square_of_number)\n",
    "new_lst = [(i,i**2) for i in range(10)]\n",
    "print(new_lst)"
   ]
  },
  {
   "cell_type": "code",
   "execution_count": 26,
   "id": "5cb476e0",
   "metadata": {},
   "outputs": [
    {
     "name": "stdout",
     "output_type": "stream",
     "text": [
      "[[1, 5, 9], [2, 6, 10], [3, 7, 11], [4, 8, 12]]\n"
     ]
    }
   ],
   "source": [
    "#Nested List Comprehensions\n",
    "matrix = [\n",
    "    [1,2,3,4],\n",
    "    [5,6,7,8],\n",
    "    [9,10,11,12]\n",
    "]\n",
    "#transpose of a matrix without list comprehensions\n",
    "transposed=[]\n",
    "for i in range(4):\n",
    "    lst = []\n",
    "    for row in matrix:\n",
    "        lst.append(row[i])\n",
    "    transposed.append(lst)\n",
    "print(transposed)"
   ]
  },
  {
   "cell_type": "code",
   "execution_count": 27,
   "id": "d23df6fa",
   "metadata": {},
   "outputs": [
    {
     "name": "stdout",
     "output_type": "stream",
     "text": [
      "[[1, 5, 9], [2, 6, 10], [3, 7, 11], [4, 8, 12]]\n"
     ]
    }
   ],
   "source": [
    "#with list comprehensions\n",
    "transposed = [[row[i] for row in matrix] for i in range(4)]\n",
    "print(transposed)"
   ]
  },
  {
   "cell_type": "markdown",
   "id": "ca8bad0c",
   "metadata": {},
   "source": [
    "### Tuples\n",
    "- Tuple is a data structure similar to list.\n",
    "- Only difference is tuples are immutable means once assigned tuples elements cannot be changed."
   ]
  },
  {
   "cell_type": "code",
   "execution_count": 4,
   "id": "9b69f19e",
   "metadata": {},
   "outputs": [],
   "source": [
    "#empty tuple\n",
    "a = ()\n"
   ]
  },
  {
   "cell_type": "code",
   "execution_count": 5,
   "id": "d47ddb0a",
   "metadata": {},
   "outputs": [
    {
     "name": "stdout",
     "output_type": "stream",
     "text": [
      "<class 'tuple'>\n"
     ]
    }
   ],
   "source": [
    "a = ('name1','name2')\n",
    "print(type(a))"
   ]
  },
  {
   "cell_type": "code",
   "execution_count": 7,
   "id": "329ee17d",
   "metadata": {},
   "outputs": [
    {
     "name": "stdout",
     "output_type": "stream",
     "text": [
      "<class 'tuple'>\n"
     ]
    }
   ],
   "source": [
    "#parenthesis is optional \n",
    "b = 'name1','name2'\n",
    "print(type(b))"
   ]
  },
  {
   "cell_type": "code",
   "execution_count": 8,
   "id": "1224f92b",
   "metadata": {},
   "outputs": [
    {
     "name": "stdout",
     "output_type": "stream",
     "text": [
      "<class 'str'>\n"
     ]
    }
   ],
   "source": [
    "#need comma at the end\n",
    "c = 'name1'\n",
    "print(type(c))"
   ]
  },
  {
   "cell_type": "code",
   "execution_count": 9,
   "id": "5364fa7b",
   "metadata": {},
   "outputs": [
    {
     "name": "stdout",
     "output_type": "stream",
     "text": [
      "<class 'tuple'>\n"
     ]
    }
   ],
   "source": [
    "c = 'name1',\n",
    "print(type(c))"
   ]
  },
  {
   "cell_type": "code",
   "execution_count": 10,
   "id": "05105ed2",
   "metadata": {},
   "outputs": [
    {
     "name": "stdout",
     "output_type": "stream",
     "text": [
      "<class 'tuple'>\n"
     ]
    }
   ],
   "source": [
    "#nested tuple\n",
    "a = ('apple',2,['ball','cat'])\n",
    "print(type(a))"
   ]
  },
  {
   "cell_type": "markdown",
   "id": "80920d16",
   "metadata": {},
   "source": [
    "#### Accessing Elements in a Tuple\n",
    "- Tuple also supports indexing and slicing similar to a list.\n"
   ]
  },
  {
   "cell_type": "code",
   "execution_count": 11,
   "id": "f1b681a5",
   "metadata": {},
   "outputs": [
    {
     "name": "stdout",
     "output_type": "stream",
     "text": [
      "name3\n"
     ]
    }
   ],
   "source": [
    "a =('name1','name2','name3','name4')\n",
    "print(a[2])"
   ]
  },
  {
   "cell_type": "code",
   "execution_count": 12,
   "id": "d5e9dce1",
   "metadata": {},
   "outputs": [
    {
     "name": "stdout",
     "output_type": "stream",
     "text": [
      "('name3', 'name4')\n"
     ]
    }
   ],
   "source": [
    "print(a[2:4])"
   ]
  },
  {
   "cell_type": "code",
   "execution_count": 13,
   "id": "b54031dc",
   "metadata": {},
   "outputs": [
    {
     "name": "stdout",
     "output_type": "stream",
     "text": [
      "list2\n"
     ]
    }
   ],
   "source": [
    "#nested tuple\n",
    "a = ('tuple1','tuple2',['list1','list2'])\n",
    "print(a[2][1])"
   ]
  },
  {
   "cell_type": "code",
   "execution_count": 14,
   "id": "af52cf11",
   "metadata": {},
   "outputs": [
    {
     "name": "stdout",
     "output_type": "stream",
     "text": [
      "(2, 3, 4, 5)\n"
     ]
    }
   ],
   "source": [
    "#Slicing\n",
    "a = (1,2,3,4,5,6,7)\n",
    "print(a[1:5])"
   ]
  },
  {
   "cell_type": "code",
   "execution_count": 18,
   "id": "ed0149d4",
   "metadata": {},
   "outputs": [
    {
     "name": "stdout",
     "output_type": "stream",
     "text": [
      "(1, 2, 3, 4, 5)\n"
     ]
    }
   ],
   "source": [
    "#print elements from starting to 2nd last elements\n",
    "print(a[:-2])"
   ]
  },
  {
   "cell_type": "code",
   "execution_count": 20,
   "id": "8153db2d",
   "metadata": {},
   "outputs": [
    {
     "name": "stdout",
     "output_type": "stream",
     "text": [
      "(3, 4, 5)\n"
     ]
    }
   ],
   "source": [
    "a = a[1:5]\n",
    "print(a)"
   ]
  },
  {
   "cell_type": "markdown",
   "id": "34cfbc08",
   "metadata": {},
   "source": [
    "##### Changing elements in Tuple\n",
    "- Tuples are immutable"
   ]
  },
  {
   "cell_type": "code",
   "execution_count": 21,
   "id": "2e702a6d",
   "metadata": {},
   "outputs": [
    {
     "ename": "TypeError",
     "evalue": "'tuple' object does not support item assignment",
     "output_type": "error",
     "traceback": [
      "\u001b[1;31m---------------------------------------------------------------------------\u001b[0m",
      "\u001b[1;31mTypeError\u001b[0m                                 Traceback (most recent call last)",
      "Cell \u001b[1;32mIn[21], line 2\u001b[0m\n\u001b[0;32m      1\u001b[0m a \u001b[38;5;241m=\u001b[39m (\u001b[38;5;241m1\u001b[39m,\u001b[38;5;241m2\u001b[39m,\u001b[38;5;241m3\u001b[39m,\u001b[38;5;241m4\u001b[39m,\u001b[38;5;241m5\u001b[39m)\n\u001b[1;32m----> 2\u001b[0m a[\u001b[38;5;241m2\u001b[39m]\u001b[38;5;241m=\u001b[39m\u001b[38;5;241m3\u001b[39m\n",
      "\u001b[1;31mTypeError\u001b[0m: 'tuple' object does not support item assignment"
     ]
    }
   ],
   "source": [
    "a = (1,2,3,4,5)\n",
    "a[2]=3"
   ]
  },
  {
   "cell_type": "code",
   "execution_count": 22,
   "id": "ac414f34",
   "metadata": {},
   "outputs": [
    {
     "name": "stdout",
     "output_type": "stream",
     "text": [
      "(1, 2, 3, [4, 5, 7])\n"
     ]
    }
   ],
   "source": [
    "a = (1,2,3,[4,6,7])\n",
    "a[3][1]=5 #but can change value of list inside tuple\n",
    "print(a)"
   ]
  },
  {
   "cell_type": "markdown",
   "id": "f5dc8c23",
   "metadata": {},
   "source": [
    "##### Concatenation of Tuple\n",
    "- We can perform concatenation of tuples, but the concatenation returns a copy. We cannot perform concatenation operations in place for a tuple."
   ]
  },
  {
   "cell_type": "code",
   "execution_count": 23,
   "id": "217c7f6f",
   "metadata": {},
   "outputs": [
    {
     "name": "stdout",
     "output_type": "stream",
     "text": [
      "(1, 2, 3, 4, 5, 6)\n"
     ]
    }
   ],
   "source": [
    "a = (1,2,3)+(4,5,6)\n",
    "print(a)"
   ]
  },
  {
   "cell_type": "code",
   "execution_count": 30,
   "id": "9eae3071",
   "metadata": {},
   "outputs": [
    {
     "name": "stdout",
     "output_type": "stream",
     "text": [
      "('mukesh ', 'mukesh ', 'mukesh ', 'mukesh ')\n"
     ]
    }
   ],
   "source": [
    "#repeat the elements in a tuple for a given number of times using * operator.\n",
    "a = (('mukesh ',)*4)\n",
    "print(a)"
   ]
  },
  {
   "cell_type": "markdown",
   "id": "7222943d",
   "metadata": {},
   "source": [
    "##### Deletion of Tuple\n",
    "- We have to use the del keyword to delete any python object. The same keyword can be used to delete a tuple."
   ]
  },
  {
   "cell_type": "code",
   "execution_count": 31,
   "id": "1d297fe0",
   "metadata": {},
   "outputs": [
    {
     "name": "stdout",
     "output_type": "stream",
     "text": [
      "(1, 2, 3, 4, 5, 6)\n",
      "********************\n"
     ]
    },
    {
     "ename": "NameError",
     "evalue": "name 't' is not defined",
     "output_type": "error",
     "traceback": [
      "\u001b[1;31m---------------------------------------------------------------------------\u001b[0m",
      "\u001b[1;31mNameError\u001b[0m                                 Traceback (most recent call last)",
      "Cell \u001b[1;32mIn[31], line 5\u001b[0m\n\u001b[0;32m      3\u001b[0m \u001b[38;5;28mprint\u001b[39m(\u001b[38;5;124m'\u001b[39m\u001b[38;5;124m**\u001b[39m\u001b[38;5;124m'\u001b[39m\u001b[38;5;241m*\u001b[39m\u001b[38;5;241m10\u001b[39m)\n\u001b[0;32m      4\u001b[0m \u001b[38;5;28;01mdel\u001b[39;00m t\n\u001b[1;32m----> 5\u001b[0m \u001b[38;5;28mprint\u001b[39m(t)\n",
      "\u001b[1;31mNameError\u001b[0m: name 't' is not defined"
     ]
    }
   ],
   "source": [
    "t = (1,2,3,4,5,6)\n",
    "print(t)\n",
    "print('**'*10)\n",
    "del t\n",
    "print(t)"
   ]
  },
  {
   "cell_type": "code",
   "execution_count": 33,
   "id": "91ec77ec",
   "metadata": {},
   "outputs": [
    {
     "ename": "TypeError",
     "evalue": "'tuple' object doesn't support item deletion",
     "output_type": "error",
     "traceback": [
      "\u001b[1;31m---------------------------------------------------------------------------\u001b[0m",
      "\u001b[1;31mTypeError\u001b[0m                                 Traceback (most recent call last)",
      "Cell \u001b[1;32mIn[33], line 2\u001b[0m\n\u001b[0;32m      1\u001b[0m a \u001b[38;5;241m=\u001b[39m (\u001b[38;5;241m1\u001b[39m,\u001b[38;5;241m2\u001b[39m,\u001b[38;5;241m3\u001b[39m,\u001b[38;5;241m4\u001b[39m,\u001b[38;5;241m5\u001b[39m)\n\u001b[1;32m----> 2\u001b[0m \u001b[38;5;28;01mdel\u001b[39;00m a[\u001b[38;5;241m2\u001b[39m]\n",
      "\u001b[1;31mTypeError\u001b[0m: 'tuple' object doesn't support item deletion"
     ]
    }
   ],
   "source": [
    "a = (1,2,3,4,5)\n",
    "del a[2] #unlike list we cannot delete elements from tuple"
   ]
  },
  {
   "cell_type": "markdown",
   "id": "c4efb71d",
   "metadata": {},
   "source": [
    "##### Tuple count\n",
    "- The number of occurrences of the given element in a given tuple is obtained using the count() function.\n"
   ]
  },
  {
   "cell_type": "code",
   "execution_count": 34,
   "id": "c685b16b",
   "metadata": {},
   "outputs": [
    {
     "data": {
      "text/plain": [
       "2"
      ]
     },
     "execution_count": 34,
     "metadata": {},
     "output_type": "execute_result"
    }
   ],
   "source": [
    "a = (1,2,3,1,4,5,3,7,3)\n",
    "a.count(1) #how many time ele 1 occurs in variable a"
   ]
  },
  {
   "cell_type": "markdown",
   "id": "5bafa23f",
   "metadata": {},
   "source": [
    "##### Finding the index in a tuple\n",
    "- We use index() method to find out the index of a particular element in a given tuple.\n",
    "- If the given element occurs multiple times in a given tuple, then it returns the index of the first occurrence of that element in the given tuple."
   ]
  },
  {
   "cell_type": "code",
   "execution_count": 35,
   "id": "7bb21028",
   "metadata": {},
   "outputs": [
    {
     "data": {
      "text/plain": [
       "2"
      ]
     },
     "execution_count": 35,
     "metadata": {},
     "output_type": "execute_result"
    }
   ],
   "source": [
    "t = (1,2,3,4,5,6,3)\n",
    "t.index(3)"
   ]
  },
  {
   "cell_type": "markdown",
   "id": "9068dc83",
   "metadata": {},
   "source": [
    "##### Tuple Membership\n",
    "- We can check if a given element is present in a tuple, using the 'in' keyword."
   ]
  },
  {
   "cell_type": "code",
   "execution_count": 36,
   "id": "19172db1",
   "metadata": {},
   "outputs": [
    {
     "name": "stdout",
     "output_type": "stream",
     "text": [
      "Found\n"
     ]
    }
   ],
   "source": [
    "a = ('apple','ball','cat','dog')\n",
    "if 'apple' in a:\n",
    "    print('Found')"
   ]
  },
  {
   "cell_type": "code",
   "execution_count": 37,
   "id": "fd03b337",
   "metadata": {},
   "outputs": [
    {
     "name": "stdout",
     "output_type": "stream",
     "text": [
      "False\n"
     ]
    }
   ],
   "source": [
    "print(7 in a)"
   ]
  },
  {
   "cell_type": "code",
   "execution_count": 38,
   "id": "284f38ff",
   "metadata": {},
   "outputs": [
    {
     "name": "stdout",
     "output_type": "stream",
     "text": [
      "True\n"
     ]
    }
   ],
   "source": [
    "print('apple' in a)"
   ]
  },
  {
   "cell_type": "markdown",
   "id": "1b4c3f8a",
   "metadata": {},
   "source": [
    "##### Built-In Functions"
   ]
  },
  {
   "cell_type": "code",
   "execution_count": 39,
   "id": "b708a187",
   "metadata": {},
   "outputs": [
    {
     "name": "stdout",
     "output_type": "stream",
     "text": [
      "5\n"
     ]
    }
   ],
   "source": [
    "#Tuple length \n",
    "a = (1,2,3,4,5) \n",
    "print(len(a)) #return number of elements present in the given tuple"
   ]
  },
  {
   "cell_type": "markdown",
   "id": "e2941fac",
   "metadata": {},
   "source": [
    "##### Tuple sort\n",
    "- We use the sorted() function to return the sorted form of a tuple. The sorted() function doesnot perform the sort operation in-place. \n",
    "- It returns a copy of the sorted form only in the form of a list."
   ]
  },
  {
   "cell_type": "code",
   "execution_count": 45,
   "id": "24156c9a",
   "metadata": {},
   "outputs": [
    {
     "name": "stdout",
     "output_type": "stream",
     "text": [
      "[1, 2, 3, 4, 5, 6, 7]\n"
     ]
    }
   ],
   "source": [
    "t = (7,6,1,3,2,5,4)\n",
    "new_t = sorted(t)\n",
    "print(new_t)"
   ]
  },
  {
   "cell_type": "code",
   "execution_count": 46,
   "id": "de5d2dd9",
   "metadata": {},
   "outputs": [
    {
     "name": "stdout",
     "output_type": "stream",
     "text": [
      "9\n"
     ]
    }
   ],
   "source": [
    "#Maximum element\n",
    "#return maximum value elements in a given tuple\n",
    "t = (1,3,2,4,5,9)\n",
    "print(max(t))"
   ]
  },
  {
   "cell_type": "code",
   "execution_count": 47,
   "id": "ee1eae65",
   "metadata": {},
   "outputs": [
    {
     "name": "stdout",
     "output_type": "stream",
     "text": [
      "1\n"
     ]
    }
   ],
   "source": [
    "#Minimum element\n",
    "print(min(t))"
   ]
  },
  {
   "cell_type": "markdown",
   "id": "3193628a",
   "metadata": {},
   "source": [
    "### Sets\n",
    "- A set is an unordered collection of items. Every element is unique(no duplicates).\n",
    "- A set is a mutable data structures. We can add or remove items from it.\n",
    "- Sets can be used to perform mathmatical set operations like Union, Intersection, Symmetric Difference etc.\n",
    "- The order in which the elements are inserted into a set is sometimes different from the order in which they are displayed."
   ]
  },
  {
   "cell_type": "code",
   "execution_count": 5,
   "id": "ee454d38",
   "metadata": {},
   "outputs": [
    {
     "name": "stdout",
     "output_type": "stream",
     "text": [
      "<class 'set'>\n",
      "<class 'set'>\n",
      "{1, 2, 3}\n"
     ]
    }
   ],
   "source": [
    "#Set creation\n",
    "s = {1,2,3} #set of integers\n",
    "print(type(s))\n",
    "a=set([1,2,3])\n",
    "print(type(a))\n",
    "print(a)"
   ]
  },
  {
   "cell_type": "code",
   "execution_count": 7,
   "id": "ee1f1dfc",
   "metadata": {},
   "outputs": [
    {
     "name": "stdout",
     "output_type": "stream",
     "text": [
      "<class 'set'>\n"
     ]
    }
   ],
   "source": [
    "#initialize a set with set method\n",
    "s1=set()\n",
    "print(type(s1))"
   ]
  },
  {
   "cell_type": "code",
   "execution_count": 8,
   "id": "4fa127d1",
   "metadata": {},
   "outputs": [
    {
     "name": "stdout",
     "output_type": "stream",
     "text": [
      "{1, 2, 3}\n"
     ]
    }
   ],
   "source": [
    "#set doesnot allow duplicates\n",
    "s = {1,2,3,1,2}\n",
    "print(s)"
   ]
  },
  {
   "cell_type": "markdown",
   "id": "6e11e097",
   "metadata": {},
   "source": [
    "##### Addition of elements to a set\n",
    "- If we want to add the elements one at a time, then we have to use the add() method, whereas if we want to add more than one element at a time, then we have to use the update() method.\n",
    "- We can use integers, float values, strings, lists, tuples or combination of these objects as the elements in a set."
   ]
  },
  {
   "cell_type": "code",
   "execution_count": 1,
   "id": "cad104ca",
   "metadata": {},
   "outputs": [],
   "source": [
    "s = {1,2}\n",
    "s.add(3) #adding single element using add()"
   ]
  },
  {
   "cell_type": "code",
   "execution_count": 2,
   "id": "27594f83",
   "metadata": {},
   "outputs": [
    {
     "name": "stdout",
     "output_type": "stream",
     "text": [
      "{1, 2, 3}\n"
     ]
    }
   ],
   "source": [
    "print(s)"
   ]
  },
  {
   "cell_type": "code",
   "execution_count": 7,
   "id": "6268ab3f",
   "metadata": {},
   "outputs": [
    {
     "name": "stdout",
     "output_type": "stream",
     "text": [
      "{1, 2, 3, 4, 5}\n"
     ]
    }
   ],
   "source": [
    "s1 = {1,2,3}\n",
    "s1.update([3,4,5]) #add multiple elements using update()\n",
    "print(s1)"
   ]
  },
  {
   "cell_type": "code",
   "execution_count": 8,
   "id": "bad038ee",
   "metadata": {},
   "outputs": [
    {
     "name": "stdout",
     "output_type": "stream",
     "text": [
      "{1, 2, 3, 4, 5, 6, 7, 8}\n"
     ]
    }
   ],
   "source": [
    "#add list and set\n",
    "s2 = {1,2,3}\n",
    "s2.update([3,4,5],{6,7,8,2})\n",
    "print(s2)"
   ]
  },
  {
   "cell_type": "markdown",
   "id": "ec186476",
   "metadata": {},
   "source": [
    "##### Removal of elements from a set\n",
    "- If we want to remove any random element from the set, then we have to use pop() method. Generally pop throws an error only when the given set is empty.\n",
    "- If we want tpo remove any particular element from the set, then we have to use either remove() or discard() methods.\n",
    "- remove() method throws an error if elements is not present in a set. "
   ]
  },
  {
   "cell_type": "code",
   "execution_count": 9,
   "id": "c86baa5b",
   "metadata": {},
   "outputs": [
    {
     "name": "stdout",
     "output_type": "stream",
     "text": [
      "{2, 3, 4, 5}\n"
     ]
    }
   ],
   "source": [
    "s = {1,2,3,4,5}\n",
    "s.pop()\n",
    "print(s)"
   ]
  },
  {
   "cell_type": "code",
   "execution_count": 10,
   "id": "4ea7d815",
   "metadata": {},
   "outputs": [
    {
     "name": "stdout",
     "output_type": "stream",
     "text": [
      "{2, 3, 4, 5}\n"
     ]
    }
   ],
   "source": [
    "s = {1,2,3,4,5}\n",
    "s.remove(1)\n",
    "print(s)"
   ]
  },
  {
   "cell_type": "code",
   "execution_count": 11,
   "id": "9db00971",
   "metadata": {},
   "outputs": [
    {
     "ename": "KeyError",
     "evalue": "6",
     "output_type": "error",
     "traceback": [
      "\u001b[1;31m---------------------------------------------------------------------------\u001b[0m",
      "\u001b[1;31mKeyError\u001b[0m                                  Traceback (most recent call last)",
      "Cell \u001b[1;32mIn[11], line 3\u001b[0m\n\u001b[0;32m      1\u001b[0m \u001b[38;5;66;03m#remove() throws error if element is not present in a set\u001b[39;00m\n\u001b[0;32m      2\u001b[0m s \u001b[38;5;241m=\u001b[39m {\u001b[38;5;241m1\u001b[39m,\u001b[38;5;241m2\u001b[39m,\u001b[38;5;241m3\u001b[39m,\u001b[38;5;241m4\u001b[39m,\u001b[38;5;241m5\u001b[39m}\n\u001b[1;32m----> 3\u001b[0m s\u001b[38;5;241m.\u001b[39mremove(\u001b[38;5;241m6\u001b[39m)\n",
      "\u001b[1;31mKeyError\u001b[0m: 6"
     ]
    }
   ],
   "source": [
    "#remove() throws error if element is not present in a set\n",
    "s = {1,2,3,4,5}\n",
    "s.remove(6)"
   ]
  },
  {
   "cell_type": "code",
   "execution_count": 14,
   "id": "52a1b4a9",
   "metadata": {},
   "outputs": [
    {
     "name": "stdout",
     "output_type": "stream",
     "text": [
      "{1, 2, 3, 4, 5}\n"
     ]
    }
   ],
   "source": [
    "#discard() doesnot thorw any error\n",
    "s.discard(6)\n",
    "print(s)"
   ]
  },
  {
   "cell_type": "markdown",
   "id": "39a84c33",
   "metadata": {},
   "source": [
    "###### Python set operations\n",
    "- We majorly perform operations like Union, Intersection, difference and symmetric difference between set."
   ]
  },
  {
   "cell_type": "code",
   "execution_count": 15,
   "id": "233464e5",
   "metadata": {},
   "outputs": [
    {
     "name": "stdout",
     "output_type": "stream",
     "text": [
      "{1, 2, 3, 4, 5, 6, 7, 8}\n"
     ]
    }
   ],
   "source": [
    "set1 = {1,2,3,4,5}\n",
    "set2 = {4,5,6,7,8}\n",
    "#union using | operator\n",
    "print(set1|set2)"
   ]
  },
  {
   "cell_type": "code",
   "execution_count": 16,
   "id": "adcfdbfc",
   "metadata": {},
   "outputs": [
    {
     "name": "stdout",
     "output_type": "stream",
     "text": [
      "{1, 2, 3, 4, 5, 6, 7, 8}\n"
     ]
    }
   ],
   "source": [
    "#or we can use union method\n",
    "print(set1.union(set2))"
   ]
  },
  {
   "cell_type": "code",
   "execution_count": 18,
   "id": "bd14bbf7",
   "metadata": {},
   "outputs": [
    {
     "name": "stdout",
     "output_type": "stream",
     "text": [
      "{4, 5}\n"
     ]
    }
   ],
   "source": [
    "#intersection\n",
    "#using & operator\n",
    "print(set1&set2)"
   ]
  },
  {
   "cell_type": "code",
   "execution_count": 19,
   "id": "d68cbf6b",
   "metadata": {},
   "outputs": [
    {
     "name": "stdout",
     "output_type": "stream",
     "text": [
      "{4, 5}\n"
     ]
    }
   ],
   "source": [
    "#or \n",
    "print(set1.intersection(set2))"
   ]
  },
  {
   "cell_type": "code",
   "execution_count": 20,
   "id": "17694b2d",
   "metadata": {},
   "outputs": [
    {
     "name": "stdout",
     "output_type": "stream",
     "text": [
      "{1, 2, 3}\n"
     ]
    }
   ],
   "source": [
    "#set difference: set that are present in set1 but not in set2\n",
    "print(set1-set2) #using - operator"
   ]
  },
  {
   "cell_type": "code",
   "execution_count": 21,
   "id": "f1930711",
   "metadata": {},
   "outputs": [
    {
     "name": "stdout",
     "output_type": "stream",
     "text": [
      "{1, 2, 3}\n"
     ]
    }
   ],
   "source": [
    "#or \n",
    "print(set1.difference(set2))"
   ]
  },
  {
   "cell_type": "code",
   "execution_count": 22,
   "id": "901b32ff",
   "metadata": {},
   "outputs": [
    {
     "name": "stdout",
     "output_type": "stream",
     "text": [
      "{1, 2, 3, 6, 7, 8}\n"
     ]
    }
   ],
   "source": [
    "#symmetric difference\n",
    "#elements that are present in both but not common one\n",
    "print(set1^set2) #using ^ operator\n",
    "#elements {4,5} are present in both, so they are excluded"
   ]
  },
  {
   "cell_type": "code",
   "execution_count": 25,
   "id": "1da8667b",
   "metadata": {},
   "outputs": [
    {
     "name": "stdout",
     "output_type": "stream",
     "text": [
      "{1, 2, 3, 6, 7, 8}\n"
     ]
    }
   ],
   "source": [
    "#or we can use symmetric_difference \n",
    "print(set1.symmetric_difference(set2))"
   ]
  },
  {
   "cell_type": "code",
   "execution_count": 29,
   "id": "48da9261",
   "metadata": {},
   "outputs": [
    {
     "name": "stdout",
     "output_type": "stream",
     "text": [
      "False\n"
     ]
    }
   ],
   "source": [
    "#find issubset()\n",
    "s1 = {1,2,3,4,5}\n",
    "s2 = {2,3}\n",
    "print(s1.issubset(s2))"
   ]
  },
  {
   "cell_type": "code",
   "execution_count": 27,
   "id": "df572655",
   "metadata": {},
   "outputs": [
    {
     "name": "stdout",
     "output_type": "stream",
     "text": [
      "True\n"
     ]
    }
   ],
   "source": [
    "print(s2.issubset(s1))"
   ]
  },
  {
   "cell_type": "code",
   "execution_count": 31,
   "id": "8a54c665",
   "metadata": {},
   "outputs": [
    {
     "name": "stdout",
     "output_type": "stream",
     "text": [
      "s2 is subset of s1? True\n"
     ]
    }
   ],
   "source": [
    "print(\"s2 is subset of s1?\",s2.issubset(s1))"
   ]
  },
  {
   "cell_type": "markdown",
   "id": "4bfa36d4",
   "metadata": {},
   "source": [
    "###### Frozen Set\n",
    "- Frozen set are immutable, means once assign we cannot add or remove elements from frozen set.\n",
    "- Rest mathmatical set operations can be perfromed."
   ]
  },
  {
   "cell_type": "code",
   "execution_count": 32,
   "id": "f948aaf4",
   "metadata": {},
   "outputs": [
    {
     "name": "stdout",
     "output_type": "stream",
     "text": [
      "<class 'frozenset'>\n"
     ]
    }
   ],
   "source": [
    "set1 = frozenset([1,2,3,4])\n",
    "print(type(set1))"
   ]
  },
  {
   "cell_type": "code",
   "execution_count": 33,
   "id": "391ba58b",
   "metadata": {},
   "outputs": [
    {
     "ename": "AttributeError",
     "evalue": "'frozenset' object has no attribute 'add'",
     "output_type": "error",
     "traceback": [
      "\u001b[1;31m---------------------------------------------------------------------------\u001b[0m",
      "\u001b[1;31mAttributeError\u001b[0m                            Traceback (most recent call last)",
      "Cell \u001b[1;32mIn[33], line 1\u001b[0m\n\u001b[1;32m----> 1\u001b[0m set1\u001b[38;5;241m.\u001b[39madd(\u001b[38;5;241m5\u001b[39m)\n",
      "\u001b[1;31mAttributeError\u001b[0m: 'frozenset' object has no attribute 'add'"
     ]
    }
   ],
   "source": [
    "set1.add(5)"
   ]
  },
  {
   "cell_type": "code",
   "execution_count": 34,
   "id": "fbd13d15",
   "metadata": {},
   "outputs": [
    {
     "name": "stdout",
     "output_type": "stream",
     "text": [
      "frozenset({3, 4})\n"
     ]
    }
   ],
   "source": [
    "set2 = frozenset([3,4,5,6])\n",
    "print(set1&set2) #we can perfrom set operations"
   ]
  },
  {
   "cell_type": "markdown",
   "id": "7f37be96",
   "metadata": {},
   "source": [
    "### Dictionary\n",
    "- Dictionary is an unordered collection of items.\n",
    "- In the other data structures discussed so far, we had only the values present in the form of elements/items whereas in a dictionary we have the key:value pairs.\n",
    "- Similar to the set data structure, as the dictionary is an unordered data structure, we cannot access the elements using indexes."
   ]
  },
  {
   "cell_type": "code",
   "execution_count": 1,
   "id": "f7d2fb9d",
   "metadata": {},
   "outputs": [
    {
     "name": "stdout",
     "output_type": "stream",
     "text": [
      "<class 'dict'>\n"
     ]
    }
   ],
   "source": [
    "#Dictionary creation\n",
    "#empty dictionary\n",
    "my_dict = {}\n",
    "print(type(my_dict))"
   ]
  },
  {
   "cell_type": "code",
   "execution_count": 6,
   "id": "0ceb55fc",
   "metadata": {},
   "outputs": [
    {
     "name": "stdout",
     "output_type": "stream",
     "text": [
      "abc\n"
     ]
    }
   ],
   "source": [
    "#dictionary with integer keys\n",
    "d1 = {1: \"abc\",2:'cdf'}\n",
    "print(d1[1])"
   ]
  },
  {
   "cell_type": "code",
   "execution_count": 12,
   "id": "1e25c667",
   "metadata": {},
   "outputs": [
    {
     "name": "stdout",
     "output_type": "stream",
     "text": [
      "23\n",
      "<class 'dict'>\n",
      "['abc', 'xyz']\n"
     ]
    }
   ],
   "source": [
    "#dictionary with mixed keys\n",
    "d2 = {1:'abc','ab':23}\n",
    "print(d2['ab'])\n",
    "print(type(d2))\n",
    "d4 = {'name':'Mukesh',1:['abc','xyz']}\n",
    "print(d4[1])"
   ]
  },
  {
   "cell_type": "code",
   "execution_count": 9,
   "id": "10fa37a5",
   "metadata": {},
   "outputs": [
    {
     "name": "stdout",
     "output_type": "stream",
     "text": [
      "<class 'dict'>\n"
     ]
    }
   ],
   "source": [
    "#create empty dictionary using dict()\n",
    "d3 = dict()\n",
    "print(type(d3))"
   ]
  },
  {
   "cell_type": "code",
   "execution_count": 10,
   "id": "436183e0",
   "metadata": {},
   "outputs": [
    {
     "name": "stdout",
     "output_type": "stream",
     "text": [
      "cdf\n"
     ]
    }
   ],
   "source": [
    "#create dictionary with list of tuples\n",
    "dict1 = dict([(1,'abc'),(2,'cdf')])\n",
    "print(dict1[2])"
   ]
  },
  {
   "cell_type": "markdown",
   "id": "60c1e285",
   "metadata": {},
   "source": [
    "- The items in a dictionary are stored in the form of key:value pairs. The keys of a dictionary should be hashable and no duplicates keys are allowed in a dictionary.\n",
    "- We can have each key belonging to a different data type and this is supported by a dictionary.\n",
    "- We can either separately define the key-value pairs inside a dictionary with the keys and values separated by a colon(:), or we can pass the key-value pairs either in the form of tuple or a list."
   ]
  },
  {
   "cell_type": "markdown",
   "id": "a2bc1a07",
   "metadata": {},
   "source": [
    "##### Dictionary Access\n",
    "- We can access the values from a dictionary with the help of their corresponding keys.\n",
    "- The syntax for it would be: dictionary_name[key-name]"
   ]
  },
  {
   "cell_type": "code",
   "execution_count": 2,
   "id": "6c090da7",
   "metadata": {},
   "outputs": [
    {
     "name": "stdout",
     "output_type": "stream",
     "text": [
      "mukesh\n"
     ]
    }
   ],
   "source": [
    "my_dict = {'name':'mukesh','age':27}\n",
    "print(my_dict['name'])"
   ]
  },
  {
   "cell_type": "code",
   "execution_count": 5,
   "id": "a56aff07",
   "metadata": {},
   "outputs": [
    {
     "ename": "KeyError",
     "evalue": "'city'",
     "output_type": "error",
     "traceback": [
      "\u001b[1;31m---------------------------------------------------------------------------\u001b[0m",
      "\u001b[1;31mKeyError\u001b[0m                                  Traceback (most recent call last)",
      "Cell \u001b[1;32mIn[5], line 2\u001b[0m\n\u001b[0;32m      1\u001b[0m \u001b[38;5;66;03m#if key is not present, this method throw an error\u001b[39;00m\n\u001b[1;32m----> 2\u001b[0m \u001b[38;5;28mprint\u001b[39m(my_dict[\u001b[38;5;124m'\u001b[39m\u001b[38;5;124mcity\u001b[39m\u001b[38;5;124m'\u001b[39m])\n",
      "\u001b[1;31mKeyError\u001b[0m: 'city'"
     ]
    }
   ],
   "source": [
    "#if key is not present, this method throw an error\n",
    "print(my_dict['city'])"
   ]
  },
  {
   "cell_type": "code",
   "execution_count": 4,
   "id": "7703b54d",
   "metadata": {},
   "outputs": [
    {
     "name": "stdout",
     "output_type": "stream",
     "text": [
      "mukesh\n"
     ]
    }
   ],
   "source": [
    "#another way of accessing key\n",
    "print(my_dict.get('name'))"
   ]
  },
  {
   "cell_type": "code",
   "execution_count": 6,
   "id": "1cd393de",
   "metadata": {},
   "outputs": [
    {
     "name": "stdout",
     "output_type": "stream",
     "text": [
      "None\n"
     ]
    }
   ],
   "source": [
    "#get method return none, if key is not present\n",
    "print(my_dict.get('city'))"
   ]
  },
  {
   "cell_type": "markdown",
   "id": "7a86d522",
   "metadata": {},
   "source": [
    "###### Add or Modify the dictionary items"
   ]
  },
  {
   "cell_type": "code",
   "execution_count": 8,
   "id": "aecd72fc",
   "metadata": {},
   "outputs": [
    {
     "name": "stdout",
     "output_type": "stream",
     "text": [
      "{'name': 'mukes', 'age': 27}\n",
      "**********\n",
      "{'name': 'mukesh', 'age': 27}\n"
     ]
    }
   ],
   "source": [
    "my_dict = {'name':'mukes','age':27}\n",
    "print(my_dict)\n",
    "print('*'*10)\n",
    "#update name\n",
    "my_dict['name']='mukesh' #if we do not have the specdified key in the dictionary, then it creates the key_value pair in the dictionary\n",
    "print(my_dict)"
   ]
  },
  {
   "cell_type": "code",
   "execution_count": 9,
   "id": "7cb23f7b",
   "metadata": {},
   "outputs": [
    {
     "name": "stdout",
     "output_type": "stream",
     "text": [
      "{'name': 'mukesh', 'age': 27, 'city': 'Dhangadhi'}\n"
     ]
    }
   ],
   "source": [
    "#add new key\n",
    "my_dict['city']='Dhangadhi'\n",
    "print(my_dict)"
   ]
  },
  {
   "cell_type": "markdown",
   "id": "530405e7",
   "metadata": {},
   "source": [
    "###### Deletion/Removal of elements from a dictionary\n"
   ]
  },
  {
   "cell_type": "code",
   "execution_count": 11,
   "id": "43f6454e",
   "metadata": {},
   "outputs": [
    {
     "name": "stdout",
     "output_type": "stream",
     "text": [
      "{'name': 'Mukesh', 'age': 27, 'city': 'Dhangadhi'}\n"
     ]
    }
   ],
   "source": [
    "#create a dictionary\n",
    "d = {'name':\"Mukesh\",'age':27,'city':'Dhangadhi'}\n",
    "print(d)"
   ]
  },
  {
   "cell_type": "code",
   "execution_count": 12,
   "id": "d28574c4",
   "metadata": {},
   "outputs": [
    {
     "name": "stdout",
     "output_type": "stream",
     "text": [
      "27\n"
     ]
    }
   ],
   "source": [
    "#remove a particular item\n",
    "print(d.pop('age'))"
   ]
  },
  {
   "cell_type": "code",
   "execution_count": 13,
   "id": "4b08a821",
   "metadata": {},
   "outputs": [
    {
     "name": "stdout",
     "output_type": "stream",
     "text": [
      "{'name': 'Mukesh', 'city': 'Dhangadhi'}\n"
     ]
    }
   ],
   "source": [
    "print(d)"
   ]
  },
  {
   "cell_type": "code",
   "execution_count": 14,
   "id": "d15d0329",
   "metadata": {},
   "outputs": [
    {
     "name": "stdout",
     "output_type": "stream",
     "text": [
      "{'name': 'Mukesh', 'age': 27, 'city': 'Dhangadhi'}\n"
     ]
    }
   ],
   "source": [
    "d = {'name':\"Mukesh\",'age':27,'city':'Dhangadhi'}\n",
    "print(d)"
   ]
  },
  {
   "cell_type": "code",
   "execution_count": 15,
   "id": "ab495c4c",
   "metadata": {},
   "outputs": [
    {
     "name": "stdout",
     "output_type": "stream",
     "text": [
      "{'name': 'Mukesh', 'age': 27}\n"
     ]
    }
   ],
   "source": [
    "#remove any key\n",
    "d.popitem()\n",
    "print(d)"
   ]
  },
  {
   "cell_type": "code",
   "execution_count": 16,
   "id": "d6b3b003",
   "metadata": {},
   "outputs": [
    {
     "name": "stdout",
     "output_type": "stream",
     "text": [
      "{3: 9, 4: 16, 5: 25}\n"
     ]
    }
   ],
   "source": [
    "squares = {2:4,3:9,4:16,5:25}\n",
    "#delete particular key\n",
    "del squares[2]\n",
    "print(squares)"
   ]
  },
  {
   "cell_type": "code",
   "execution_count": 17,
   "id": "ad9cf6a8",
   "metadata": {},
   "outputs": [
    {
     "name": "stdout",
     "output_type": "stream",
     "text": [
      "{}\n"
     ]
    }
   ],
   "source": [
    "#remove all items\n",
    "squares.clear()\n",
    "print(squares)"
   ]
  },
  {
   "cell_type": "code",
   "execution_count": 18,
   "id": "761065c2",
   "metadata": {},
   "outputs": [],
   "source": [
    "#delete dictionary itself\n",
    "del squares"
   ]
  },
  {
   "cell_type": "code",
   "execution_count": 19,
   "id": "512b7b9a",
   "metadata": {},
   "outputs": [
    {
     "ename": "NameError",
     "evalue": "name 'squares' is not defined",
     "output_type": "error",
     "traceback": [
      "\u001b[1;31m---------------------------------------------------------------------------\u001b[0m",
      "\u001b[1;31mNameError\u001b[0m                                 Traceback (most recent call last)",
      "Cell \u001b[1;32mIn[19], line 1\u001b[0m\n\u001b[1;32m----> 1\u001b[0m \u001b[38;5;28mprint\u001b[39m(squares)\n",
      "\u001b[1;31mNameError\u001b[0m: name 'squares' is not defined"
     ]
    }
   ],
   "source": [
    "print(squares)"
   ]
  },
  {
   "cell_type": "markdown",
   "id": "6dfc514b",
   "metadata": {},
   "source": [
    "###### Dictionary Methods\n",
    "- We use the copy() method to return another copy of the given dictionary.\n",
    "- fromkeys[seq[,v]] -> return a new dictionary with keys from seq and value equal to v(defaults to none)"
   ]
  },
  {
   "cell_type": "code",
   "execution_count": 20,
   "id": "df404980",
   "metadata": {},
   "outputs": [
    {
     "name": "stdout",
     "output_type": "stream",
     "text": [
      "{2: 4, 3: 9, 4: 16, 5: 25}\n"
     ]
    }
   ],
   "source": [
    "squares = {2:4,3:9,4:16,5:25}\n",
    "my_dict = squares.copy() \n",
    "print(my_dict) "
   ]
  },
  {
   "cell_type": "code",
   "execution_count": 23,
   "id": "acf6f00f",
   "metadata": {},
   "outputs": [
    {
     "name": "stdout",
     "output_type": "stream",
     "text": [
      "{'Math': 0, 'English': 0, 'Hindi': 0}\n"
     ]
    }
   ],
   "source": [
    "subjects = {}.fromkeys(['Math','English','Hindi'],0) #try removing ,0\n",
    "print(subjects)"
   ]
  },
  {
   "cell_type": "code",
   "execution_count": 25,
   "id": "bff8cdb9",
   "metadata": {},
   "outputs": [
    {
     "name": "stdout",
     "output_type": "stream",
     "text": [
      "dict_keys([1, 3, 5])\n"
     ]
    }
   ],
   "source": [
    "#we use the keys() method to return all the keys in the form of a list\n",
    "subjects = {1:2,3:4,5:6}\n",
    "print(subjects.keys())"
   ]
  },
  {
   "cell_type": "code",
   "execution_count": 26,
   "id": "de6a434d",
   "metadata": {},
   "outputs": [
    {
     "name": "stdout",
     "output_type": "stream",
     "text": [
      "dict_values([2, 4, 6])\n"
     ]
    }
   ],
   "source": [
    "#we use the values() method to return all the values in the form of a list\n",
    "print(subjects.values())"
   ]
  },
  {
   "cell_type": "code",
   "execution_count": 29,
   "id": "59900138",
   "metadata": {},
   "outputs": [
    {
     "name": "stdout",
     "output_type": "stream",
     "text": [
      "dict_items([(1, 2), (3, 4), (5, 6)])\n"
     ]
    }
   ],
   "source": [
    "print(subjects.items()) #return all the key-value pairs in as a list of tuple"
   ]
  },
  {
   "cell_type": "markdown",
   "id": "ef5a2ae8",
   "metadata": {},
   "source": [
    "### Strings\n",
    "- A strings is a sequence of characters.\n",
    "\n",
    "###### How to create a String?\n",
    "- Strings can be created by enclosing the characters either inside single quotes or double quotes or triple quotes.\n",
    "- Mostly we use triple quotes only when we want to represent the multi-line strings or the doc-strings."
   ]
  },
  {
   "cell_type": "code",
   "execution_count": 2,
   "id": "7bd73b9d",
   "metadata": {},
   "outputs": [
    {
     "name": "stdout",
     "output_type": "stream",
     "text": [
      "Hello\n",
      "**********\n",
      "Hello\n",
      "**********\n",
      "Hello\n"
     ]
    }
   ],
   "source": [
    "mystr = 'Hello'\n",
    "mystr1 = \"Hello\"\n",
    "mystr2 = \"\"\"Hello\"\"\"\n",
    "print(mystr)\n",
    "print('*'*10)\n",
    "print(mystr1)\n",
    "print('*'*10)\n",
    "print(mystr2)"
   ]
  },
  {
   "cell_type": "markdown",
   "id": "e588c664",
   "metadata": {},
   "source": [
    "######  How to access the characters in a string?\n",
    "- We can access the individual characters using the indexing and the range of characters using slicing.\n",
    "- Indexing starts from 0 and ends with the (total length of string-1).\n",
    "- If we try to access any element with an index outside the above specified range, then it thorws an error."
   ]
  },
  {
   "cell_type": "code",
   "execution_count": 8,
   "id": "92e4ad20",
   "metadata": {},
   "outputs": [
    {
     "name": "stdout",
     "output_type": "stream",
     "text": [
      "H\n",
      "o\n",
      "ll\n"
     ]
    }
   ],
   "source": [
    "mystr = 'Hello'\n",
    "print(mystr[0]) #return first character of string\n",
    "#print last character using negative indexing\n",
    "print(mystr[-1])\n",
    "#slicing from 2nd character to 4th\n",
    "print(mystr[2:4]) #4th character exclusive"
   ]
  },
  {
   "cell_type": "code",
   "execution_count": 9,
   "id": "781e7e59",
   "metadata": {},
   "outputs": [
    {
     "ename": "IndexError",
     "evalue": "string index out of range",
     "output_type": "error",
     "traceback": [
      "\u001b[1;31m---------------------------------------------------------------------------\u001b[0m",
      "\u001b[1;31mIndexError\u001b[0m                                Traceback (most recent call last)",
      "Cell \u001b[1;32mIn[9], line 1\u001b[0m\n\u001b[1;32m----> 1\u001b[0m \u001b[38;5;28mprint\u001b[39m(mystr[\u001b[38;5;241m15\u001b[39m])\n",
      "\u001b[1;31mIndexError\u001b[0m: string index out of range"
     ]
    }
   ],
   "source": [
    "print(mystr[15])"
   ]
  },
  {
   "cell_type": "markdown",
   "id": "9b6b6a50",
   "metadata": {},
   "source": [
    "###### How to change or delete a string?\n",
    "- Strings are immutable objects. It means that once after a string is assigned with some values, it cannot be changed."
   ]
  },
  {
   "cell_type": "code",
   "execution_count": 11,
   "id": "37461a3a",
   "metadata": {},
   "outputs": [
    {
     "ename": "TypeError",
     "evalue": "'str' object does not support item assignment",
     "output_type": "error",
     "traceback": [
      "\u001b[1;31m---------------------------------------------------------------------------\u001b[0m",
      "\u001b[1;31mTypeError\u001b[0m                                 Traceback (most recent call last)",
      "Cell \u001b[1;32mIn[11], line 2\u001b[0m\n\u001b[0;32m      1\u001b[0m mystr \u001b[38;5;241m=\u001b[39m \u001b[38;5;124m'\u001b[39m\u001b[38;5;124mHello\u001b[39m\u001b[38;5;124m'\u001b[39m\n\u001b[1;32m----> 2\u001b[0m mystr[\u001b[38;5;241m4\u001b[39m] \u001b[38;5;241m=\u001b[39m \u001b[38;5;124m'\u001b[39m\u001b[38;5;124mi\u001b[39m\u001b[38;5;124m'\u001b[39m\n",
      "\u001b[1;31mTypeError\u001b[0m: 'str' object does not support item assignment"
     ]
    }
   ],
   "source": [
    "mystr = 'Hello'\n",
    "mystr[4] = 'i'"
   ]
  },
  {
   "cell_type": "code",
   "execution_count": 12,
   "id": "22068ae2",
   "metadata": {},
   "outputs": [],
   "source": [
    "#in order to delete a string, we use the del keyword followed by the string name\n",
    "del mystr"
   ]
  },
  {
   "cell_type": "code",
   "execution_count": 15,
   "id": "1d07283c",
   "metadata": {},
   "outputs": [
    {
     "ename": "NameError",
     "evalue": "name 'mystr' is not defined",
     "output_type": "error",
     "traceback": [
      "\u001b[1;31m---------------------------------------------------------------------------\u001b[0m",
      "\u001b[1;31mNameError\u001b[0m                                 Traceback (most recent call last)",
      "Cell \u001b[1;32mIn[15], line 1\u001b[0m\n\u001b[1;32m----> 1\u001b[0m \u001b[38;5;28mprint\u001b[39m(mystr)\n",
      "\u001b[1;31mNameError\u001b[0m: name 'mystr' is not defined"
     ]
    }
   ],
   "source": [
    "print(mystr)"
   ]
  },
  {
   "cell_type": "markdown",
   "id": "af200f85",
   "metadata": {},
   "source": [
    "### String Operations\n",
    "###### Concatenation\n",
    "- Concatenation is the process of combining two or more strings into a single string.\n",
    "- In order to combine the strings, we use '+' operator between two string literals.\n",
    "- To repeat the given string for a specified number of times, then we have to use '*' operator."
   ]
  },
  {
   "cell_type": "code",
   "execution_count": 22,
   "id": "bb451e6c",
   "metadata": {},
   "outputs": [
    {
     "name": "stdout",
     "output_type": "stream",
     "text": [
      "Hello Mukesh\n",
      "Hello Hello Hello \n"
     ]
    }
   ],
   "source": [
    "s1 = 'Hello '\n",
    "s2 = 'Mukesh'\n",
    "print(s1 + s2)\n",
    "print(s1*3)"
   ]
  },
  {
   "cell_type": "code",
   "execution_count": 23,
   "id": "ff0af94d",
   "metadata": {},
   "outputs": [
    {
     "name": "stdout",
     "output_type": "stream",
     "text": [
      "Hello Hello Hello \n"
     ]
    }
   ],
   "source": [
    "print((s1)*3)"
   ]
  },
  {
   "cell_type": "markdown",
   "id": "4352915f",
   "metadata": {},
   "source": [
    "###### Iteration through a String\n",
    "- As a string is a sequence of characters, we can iterate over the sequence each character wise."
   ]
  },
  {
   "cell_type": "code",
   "execution_count": 2,
   "id": "a7300603",
   "metadata": {},
   "outputs": [
    {
     "name": "stdout",
     "output_type": "stream",
     "text": [
      "3  letters found\n"
     ]
    }
   ],
   "source": [
    "count = 0\n",
    "for char in \"Hello World\":\n",
    "    if char=='l':\n",
    "        count+=1\n",
    "print(count,' letters found')"
   ]
  },
  {
   "cell_type": "markdown",
   "id": "faa6fc7c",
   "metadata": {},
   "source": [
    "###### String Membership test\n",
    "- We can check if a character/substring is a member/part of the given string.\n",
    "- We use the 'in' operator to check for this purpose."
   ]
  },
  {
   "cell_type": "code",
   "execution_count": 30,
   "id": "4428d194",
   "metadata": {},
   "outputs": [
    {
     "name": "stdout",
     "output_type": "stream",
     "text": [
      "True\n"
     ]
    }
   ],
   "source": [
    "print('l' in 'Hello World')"
   ]
  },
  {
   "cell_type": "code",
   "execution_count": 31,
   "id": "61986e45",
   "metadata": {},
   "outputs": [
    {
     "name": "stdout",
     "output_type": "stream",
     "text": [
      "True\n"
     ]
    }
   ],
   "source": [
    "print('or'in 'Hello World')"
   ]
  },
  {
   "cell_type": "code",
   "execution_count": 32,
   "id": "2d2c93f6",
   "metadata": {},
   "outputs": [
    {
     "name": "stdout",
     "output_type": "stream",
     "text": [
      "False\n"
     ]
    }
   ],
   "source": [
    "print('or' in 'o r ')"
   ]
  },
  {
   "cell_type": "markdown",
   "id": "1c386c90",
   "metadata": {},
   "source": [
    "###### Strings Methods\n",
    "- We use the lower() function to convert the given string into lowercase.\n",
    "- We use the upper() function to convert the given string into uppercase.\n",
    "- split() function to split the given string into a list of strings.\n",
    "- join() function to combine all the string elements in a given list into a single string format.\n",
    "- find() function to find out the index of a given character or substring in the given string.\n",
    "- We can use replace() function with 2 arguments, to replace an old substring with a new substring. But as strings are immutable objects, the replace() function doesnot perform any replacements on the original strings. It just returns a copy of the modified string."
   ]
  },
  {
   "cell_type": "code",
   "execution_count": 5,
   "id": "244ef580",
   "metadata": {},
   "outputs": [
    {
     "data": {
      "text/plain": [
       "'HELLO'"
      ]
     },
     "execution_count": 5,
     "metadata": {},
     "output_type": "execute_result"
    }
   ],
   "source": [
    "\n",
    "'hello'.upper()"
   ]
  },
  {
   "cell_type": "code",
   "execution_count": 6,
   "id": "6fb8e89d",
   "metadata": {},
   "outputs": [
    {
     "data": {
      "text/plain": [
       "'hello'"
      ]
     },
     "execution_count": 6,
     "metadata": {},
     "output_type": "execute_result"
    }
   ],
   "source": [
    "'Hello'.lower() "
   ]
  },
  {
   "cell_type": "code",
   "execution_count": 7,
   "id": "cbbf3577",
   "metadata": {},
   "outputs": [
    {
     "data": {
      "text/plain": [
       "['This', 'will', 'split', 'all', 'words', 'in', 'a', 'list']"
      ]
     },
     "execution_count": 7,
     "metadata": {},
     "output_type": "execute_result"
    }
   ],
   "source": [
    "'This will split all words in a list'.split()"
   ]
  },
  {
   "cell_type": "code",
   "execution_count": 9,
   "id": "dc28c358",
   "metadata": {},
   "outputs": [
    {
     "data": {
      "text/plain": [
       "'This will join all words'"
      ]
     },
     "execution_count": 9,
     "metadata": {},
     "output_type": "execute_result"
    }
   ],
   "source": [
    "' '.join(['This','will','join','all','words'])"
   ]
  },
  {
   "cell_type": "code",
   "execution_count": 10,
   "id": "11a28952",
   "metadata": {},
   "outputs": [
    {
     "data": {
      "text/plain": [
       "5"
      ]
     },
     "execution_count": 10,
     "metadata": {},
     "output_type": "execute_result"
    }
   ],
   "source": [
    "'Good Morning'.find('Mo') #at 5th index"
   ]
  },
  {
   "cell_type": "code",
   "execution_count": 14,
   "id": "c06e5976",
   "metadata": {},
   "outputs": [
    {
     "data": {
      "text/plain": [
       "'Good Morning'"
      ]
     },
     "execution_count": 14,
     "metadata": {},
     "output_type": "execute_result"
    }
   ],
   "source": [
    "'Bad Morning'.replace('Bad','Good')"
   ]
  },
  {
   "cell_type": "code",
   "execution_count": 17,
   "id": "bb727ee0",
   "metadata": {},
   "outputs": [
    {
     "name": "stdout",
     "output_type": "stream",
     "text": [
      "2346474750192\n",
      "2346474757552\n"
     ]
    }
   ],
   "source": [
    "s1 = 'Bad Morning'\n",
    "print(id(s1))\n",
    "s1=s1.replace('Bad','Good')\n",
    "print(id(s1)) #pointing towards different memory location"
   ]
  },
  {
   "cell_type": "markdown",
   "id": "ac089d12",
   "metadata": {},
   "source": [
    "###### Python Program to check if the input string is palindrome or not\n"
   ]
  },
  {
   "cell_type": "code",
   "execution_count": 20,
   "id": "2d05ec5b",
   "metadata": {},
   "outputs": [
    {
     "name": "stdout",
     "output_type": "stream",
     "text": [
      "Enter a string: Madam\n",
      "Given String is palindrome\n"
     ]
    }
   ],
   "source": [
    "myStr = str(input(\"Enter a string: \"))\n",
    "#convert them to either lowercase or uppercase\n",
    "myStr=myStr.lower()\n",
    "#reverse string\n",
    "revstr = reversed(myStr)\n",
    "#check if reverse string is euqal to string\n",
    "if list(revstr)==list(myStr):\n",
    "    print(\"Given String is palindrome\")\n",
    "else:\n",
    "    print(\"Given string is not palindrome\")\n"
   ]
  },
  {
   "cell_type": "markdown",
   "id": "12b59464",
   "metadata": {},
   "source": [
    "###### Python program to sort the words in the given string"
   ]
  },
  {
   "cell_type": "code",
   "execution_count": 31,
   "id": "6beea697",
   "metadata": {},
   "outputs": [
    {
     "name": "stdout",
     "output_type": "stream",
     "text": [
      "given\n",
      "in\n",
      "program\n",
      "python\n",
      "sort\n",
      "string\n",
      "the\n",
      "to\n",
      "words\n"
     ]
    }
   ],
   "source": [
    "myStr = \"python program to sort words in the given string\"\n",
    "#convert them to list of words\n",
    "words = myStr.split()\n",
    "#print(words)\n",
    "#sort the list\n",
    "words.sort()\n",
    "#print(words)\n",
    "for word in words:\n",
    "    print(word) #print(word,end=' ') to print it on single line"
   ]
  },
  {
   "cell_type": "code",
   "execution_count": null,
   "id": "9a301623",
   "metadata": {},
   "outputs": [],
   "source": []
  }
 ],
 "metadata": {
  "kernelspec": {
   "display_name": "Python 3 (ipykernel)",
   "language": "python",
   "name": "python3"
  },
  "language_info": {
   "codemirror_mode": {
    "name": "ipython",
    "version": 3
   },
   "file_extension": ".py",
   "mimetype": "text/x-python",
   "name": "python",
   "nbconvert_exporter": "python",
   "pygments_lexer": "ipython3",
   "version": "3.11.5"
  }
 },
 "nbformat": 4,
 "nbformat_minor": 5
}
