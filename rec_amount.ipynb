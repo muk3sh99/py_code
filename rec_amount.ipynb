{
 "cells": [
  {
   "cell_type": "markdown",
   "id": "85f7565d-b171-4d28-a85c-edd184dae72f",
   "metadata": {},
   "source": [
    "#random code when i was bored\n",
    "#constraints:\n",
    "if number length not equal to 10: error\n",
    "if number start with 980,981,982 automatically reconized as ncell\n",
    "if number start with 984,986,974 recognied as ntc\n",
    "else: number length = 10 and number doesnot start with given parameter error\n",
    "if recharge amount less than 10 io more than 100 error"
   ]
  },
  {
   "cell_type": "code",
   "execution_count": 9,
   "id": "52b75699-1a6f-4fa9-b671-5bd62be7c421",
   "metadata": {},
   "outputs": [
    {
     "name": "stdin",
     "output_type": "stream",
     "text": [
      "Enter number to recharge:  yhgytasder\n"
     ]
    },
    {
     "name": "stdout",
     "output_type": "stream",
     "text": [
      "Mobile number must be 10 digit. Try again..\n"
     ]
    },
    {
     "name": "stdin",
     "output_type": "stream",
     "text": [
      "Enter number to recharge:  986847897a\n"
     ]
    },
    {
     "name": "stdout",
     "output_type": "stream",
     "text": [
      "Mobile number must be 10 digit. Try again..\n"
     ]
    },
    {
     "name": "stdin",
     "output_type": "stream",
     "text": [
      "Enter number to recharge:  9800000000\n"
     ]
    },
    {
     "name": "stdout",
     "output_type": "stream",
     "text": [
      "The number is Ncell\n"
     ]
    },
    {
     "name": "stdin",
     "output_type": "stream",
     "text": [
      "Enter amount to recharge:  10\n"
     ]
    },
    {
     "name": "stdout",
     "output_type": "stream",
     "text": [
      "\n",
      "Number to recharge: 9800000000 \n",
      "Amount to recharge: 10\n"
     ]
    },
    {
     "name": "stdin",
     "output_type": "stream",
     "text": [
      "Would you like to proceed to recharge: number= 9800000000\n",
      " amount= 10\n",
      " (y,n) y\n"
     ]
    },
    {
     "name": "stdout",
     "output_type": "stream",
     "text": [
      "Recharge Sucessful of amount: 10 to number 9800000000\n"
     ]
    }
   ],
   "source": [
    "class recharge:\n",
    "    def __init__(self,number,amount):\n",
    "        self.number=number\n",
    "        self.amount=amount\n",
    "    def show_am_num(self):\n",
    "        print()\n",
    "        print(f'Number to recharge: {self.number} ')\n",
    "        print(f'Amount to recharge: {self.amount}')\n",
    "def main():\n",
    "    while True:\n",
    "            n = input('Enter number to recharge: ')\n",
    "            if len(n)!=10 or not n.isdigit():\n",
    "                print('Mobile number must be 10 digit. Try again..')\n",
    "                continue\n",
    "            if n[:3] in ['981', '980', '982']:\n",
    "                print(\"The number is Ncell\")\n",
    "            elif n[:3] in ['986', '984', '974']:\n",
    "                print(\"The number is NTC\")\n",
    "            else:\n",
    "                print(\"\\n The number is not recognized as a valid provider\")\n",
    "                continue\n",
    "            break #valid number entered, exit the loop\n",
    "        \n",
    "    while True:\n",
    "        try:\n",
    "            a = int(input(\"Enter amount to recharge: \"))\n",
    "            if a<10:\n",
    "                print(\"Amount should be not less than 10\")\n",
    "            elif a>100:\n",
    "                print(\"Amount should be not greater than 100\")\n",
    "            else:\n",
    "                break\n",
    "        except ValueError:\n",
    "            print(\"\\n Not a valid amount. Try again\")\n",
    "    #creating instances\n",
    "    h = recharge(n,a)\n",
    "    h.show_am_num()\n",
    "    #take input from user\n",
    "    inp = input(\"Would you like to proceed to recharge: number= {}\\n amount= {}\\n (y,n)\".format(n,a))\n",
    "    if inp.lower() == 'y':  # Use .lower() to handle case sensitivity\n",
    "        print(\"Recharge Sucessful of amount: {1} to number {0}\".format(n,a))\n",
    "    elif inp.lower() == 'n':\n",
    "        print(\"Recharge Unsucessful\")\n",
    "        print(\"Exiting...\")\n",
    "    else:\n",
    "        print(\"Invaild Input\")\n",
    "        print(\"Recharge Unsucessful\")\n",
    "if __name__ == '__main__':\n",
    "    main()\n",
    "\n",
    "                \n",
    "        "
   ]
  },
  {
   "cell_type": "code",
   "execution_count": 5,
   "id": "d6a7c5c5-f48b-4a61-82b6-bdda8a2653bc",
   "metadata": {},
   "outputs": [
    {
     "name": "stdin",
     "output_type": "stream",
     "text": [
      "Enter number to recharge (10 digits):  ab\n"
     ]
    },
    {
     "name": "stdout",
     "output_type": "stream",
     "text": [
      "Mobile number must be 10 digits. Try again.\n"
     ]
    },
    {
     "name": "stdin",
     "output_type": "stream",
     "text": [
      "Enter number to recharge (10 digits):  abcdefghas\n"
     ]
    },
    {
     "name": "stdout",
     "output_type": "stream",
     "text": [
      "Mobile number must be 10 digits. Try again.\n"
     ]
    },
    {
     "name": "stdin",
     "output_type": "stream",
     "text": [
      "Enter number to recharge (10 digits):  4587457848\n"
     ]
    },
    {
     "name": "stdout",
     "output_type": "stream",
     "text": [
      "The number is not recognized as a valid provider\n"
     ]
    },
    {
     "name": "stdin",
     "output_type": "stream",
     "text": [
      "Enter number to recharge (10 digits):  9801234789\n"
     ]
    },
    {
     "name": "stdout",
     "output_type": "stream",
     "text": [
      "The number is Ncell\n"
     ]
    },
    {
     "name": "stdin",
     "output_type": "stream",
     "text": [
      "Enter amount to recharge (between 10 and 100):  10\n"
     ]
    },
    {
     "name": "stdout",
     "output_type": "stream",
     "text": [
      "\n",
      "Number to recharge: 9801234789\n",
      "Amount to recharge: 10\n"
     ]
    },
    {
     "name": "stdin",
     "output_type": "stream",
     "text": [
      "Would you like to proceed to recharge: number=9801234789, amount=10? (y/n):  y\n"
     ]
    },
    {
     "name": "stdout",
     "output_type": "stream",
     "text": [
      "Recharge successful of amount: 10 to number 9801234789.\n"
     ]
    }
   ],
   "source": [
    "#another code generated by chatgpt by dumping my whole code\n",
    "class Recharge:\n",
    "    def __init__(self, number, amount):\n",
    "        self.number = number\n",
    "        self.amount = amount\n",
    "\n",
    "    def show_amount_and_number(self):\n",
    "        print(f'\\nNumber to recharge: {self.number}')\n",
    "        print(f'Amount to recharge: {self.amount}')\n",
    "\n",
    "def check_provider(number):\n",
    "    if number.startswith(('981', '980', '982')):\n",
    "        return \"The number is Ncell\"\n",
    "    elif number.startswith(('986', '984', '974')):\n",
    "        return \"The number is NTC\"\n",
    "    else:\n",
    "        return \"The number is not recognized as a valid provider\"\n",
    "\n",
    "def main():\n",
    "    while True:\n",
    "        n = input('Enter number to recharge (10 digits): ')\n",
    "        if len(n) != 10 or not n.isdigit():\n",
    "            print('Mobile number must be 10 digits. Try again.')\n",
    "            continue\n",
    "        \n",
    "        provider_message = check_provider(n)\n",
    "        print(provider_message)\n",
    "        \n",
    "        if \"not recognized\" in provider_message:\n",
    "            continue\n",
    "\n",
    "        break  # valid number entered, exit the loop\n",
    "\n",
    "    while True:\n",
    "        try:\n",
    "            a = int(input(\"Enter amount to recharge (between 10 and 100): \"))\n",
    "            if a < 10:\n",
    "                print(\"Amount should not be less than 10.\")\n",
    "            elif a > 100:\n",
    "                print(\"Amount should not be greater than 100.\")\n",
    "            else:\n",
    "                break\n",
    "        except ValueError:\n",
    "            print(\"Not a valid amount. Try again.\")\n",
    "\n",
    "    # Creating instance\n",
    "    recharge_instance = Recharge(n, a)\n",
    "    recharge_instance.show_amount_and_number()\n",
    "\n",
    "    inp = input(f\"Would you like to proceed to recharge: number={n}, amount={a}? (y/n): \")\n",
    "    if inp.lower() == 'y':\n",
    "        print(f\"Recharge successful of amount: {a} to number {n}.\")\n",
    "    elif inp.lower() == 'n':\n",
    "        print(\"Recharge unsuccessful.\")\n",
    "    else:\n",
    "        print(\"Invalid input. Recharge unsuccessful.\")\n",
    "\n",
    "if __name__ == '__main__':\n",
    "    main()\n"
   ]
  },
  {
   "cell_type": "code",
   "execution_count": null,
   "id": "7dca5cf2-10e5-4b83-8329-1a2b6520b2e3",
   "metadata": {},
   "outputs": [],
   "source": []
  }
 ],
 "metadata": {
  "kernelspec": {
   "display_name": "Python 3 (ipykernel)",
   "language": "python",
   "name": "python3"
  },
  "language_info": {
   "codemirror_mode": {
    "name": "ipython",
    "version": 3
   },
   "file_extension": ".py",
   "mimetype": "text/x-python",
   "name": "python",
   "nbconvert_exporter": "python",
   "pygments_lexer": "ipython3",
   "version": "3.11.5"
  }
 },
 "nbformat": 4,
 "nbformat_minor": 5
}
