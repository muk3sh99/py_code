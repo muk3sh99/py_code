{
 "cells": [
  {
   "cell_type": "markdown",
   "id": "8a4cff94",
   "metadata": {},
   "source": [
    "# Keywords and Identifier in Python\n",
    "- Keywords are reserved words in Python. \n",
    "- Identifier are name given to variables, class, function name in Python.\n",
    "- Keywords cannot be used as Identifier.\n"
   ]
  },
  {
   "cell_type": "code",
   "execution_count": 1,
   "id": "ae3f650b",
   "metadata": {},
   "outputs": [
    {
     "name": "stdout",
     "output_type": "stream",
     "text": [
      "['False', 'None', 'True', 'and', 'as', 'assert', 'async', 'await', 'break', 'class', 'continue', 'def', 'del', 'elif', 'else', 'except', 'finally', 'for', 'from', 'global', 'if', 'import', 'in', 'is', 'lambda', 'nonlocal', 'not', 'or', 'pass', 'raise', 'return', 'try', 'while', 'with', 'yield']\n"
     ]
    }
   ],
   "source": [
    "#Importing Keyword\n",
    "import keyword as kb #importing keyword as alias kb\n",
    "print(kb.kwlist) #list all keyword(reserved words) in python"
   ]
  },
  {
   "cell_type": "code",
   "execution_count": 3,
   "id": "788b3d7b",
   "metadata": {},
   "outputs": [
    {
     "name": "stdout",
     "output_type": "stream",
     "text": [
      "35\n"
     ]
    }
   ],
   "source": [
    "#length[total number of keyword]\n",
    "print(len(kb.kwlist)) #We have total 35 Keywords in python"
   ]
  },
  {
   "cell_type": "code",
   "execution_count": 4,
   "id": "97218364",
   "metadata": {},
   "outputs": [
    {
     "name": "stdout",
     "output_type": "stream",
     "text": [
      "5\n"
     ]
    }
   ],
   "source": [
    "#Identifier\n",
    "a = 5; #assigning value 5 to variable(identifier) a\n",
    "print(a)\n"
   ]
  },
  {
   "cell_type": "markdown",
   "id": "f681c0d4",
   "metadata": {},
   "source": [
    "# Comments, Indentation and Statements\n",
    "- Comments are code explanation. \n",
    "- Indentation are used to define block of code. Like we use braces{} in C/C++;\n",
    "- Statement are instructions that are executed by Python interpreter."
   ]
  },
  {
   "cell_type": "code",
   "execution_count": 5,
   "id": "c6065e90",
   "metadata": {},
   "outputs": [],
   "source": [
    "#Comments example\n",
    "a = 5; #This is comment in #\n",
    "#This is multi\n",
    "#line comments\n",
    "#comments are ignored by Python interpreter (cannot be executed)"
   ]
  },
  {
   "cell_type": "code",
   "execution_count": 6,
   "id": "5a39b1d6",
   "metadata": {},
   "outputs": [
    {
     "name": "stdout",
     "output_type": "stream",
     "text": [
      "11\n"
     ]
    }
   ],
   "source": [
    "#DocString used to define what a function does\n",
    "def add(a,b):\n",
    "    '''\n",
    "    This function add two number\n",
    "    '''\n",
    "    return a+b\n",
    "print(5+6)"
   ]
  },
  {
   "cell_type": "code",
   "execution_count": 9,
   "id": "63d1810b",
   "metadata": {},
   "outputs": [
    {
     "name": "stdout",
     "output_type": "stream",
     "text": [
      "\n",
      "    This function add two number\n",
      "    \n"
     ]
    }
   ],
   "source": [
    "#To print docstring\n",
    "#can be enclosed in ''' ''',or \"\"\" \"\"\"\n",
    "print(add.__doc__)"
   ]
  },
  {
   "cell_type": "code",
   "execution_count": 11,
   "id": "a9db8dbe",
   "metadata": {},
   "outputs": [
    {
     "name": "stdout",
     "output_type": "stream",
     "text": [
      "15\n"
     ]
    }
   ],
   "source": [
    "#We can also write multiline statements\n",
    "#Below codes are example of multi-line statements\n",
    "a = 1+2+3\\\n",
    "+4 +5;\n",
    "print(a) #One way to write multilike statement using \\ at end of line"
   ]
  },
  {
   "cell_type": "code",
   "execution_count": 13,
   "id": "ec44c556",
   "metadata": {},
   "outputs": [
    {
     "name": "stdout",
     "output_type": "stream",
     "text": [
      "21\n"
     ]
    }
   ],
   "source": [
    "a = (1+2+3\n",
    "    +4+5+6)\n",
    "print(a) #or use ()"
   ]
  },
  {
   "cell_type": "markdown",
   "id": "e01f56cc",
   "metadata": {},
   "source": [
    "# Variables and Data types in Python\n",
    "- Unlike other programming language, we do not need to decleare datatypes in Python. \n",
    "- Variable is a location in the memory in which we store our data."
   ]
  },
  {
   "cell_type": "code",
   "execution_count": 14,
   "id": "cf1fea16",
   "metadata": {},
   "outputs": [
    {
     "name": "stdout",
     "output_type": "stream",
     "text": [
      "140704440488872\n"
     ]
    }
   ],
   "source": [
    "#Variable\n",
    "a = 5\n",
    "b = 5 #a and b pointing toward same memory location\n",
    "print(id(a))"
   ]
  },
  {
   "cell_type": "code",
   "execution_count": 15,
   "id": "a4148924",
   "metadata": {},
   "outputs": [
    {
     "name": "stdout",
     "output_type": "stream",
     "text": [
      "140704440488872\n"
     ]
    }
   ],
   "source": [
    "print(id(b)) #maynot be always case for large data"
   ]
  },
  {
   "cell_type": "code",
   "execution_count": 16,
   "id": "cee4fa4d",
   "metadata": {},
   "outputs": [
    {
     "name": "stdout",
     "output_type": "stream",
     "text": [
      "140704440488872\n",
      "**********\n",
      "140704440488904\n"
     ]
    }
   ],
   "source": [
    "a = 5\n",
    "b = 6\n",
    "print(id(a))\n",
    "print(\"*\"*10)\n",
    "print(id(b)) #pointing towrds diff. memory locatiobn"
   ]
  },
  {
   "cell_type": "code",
   "execution_count": 17,
   "id": "249e02ad",
   "metadata": {},
   "outputs": [
    {
     "name": "stdout",
     "output_type": "stream",
     "text": [
      "<class 'float'>\n"
     ]
    }
   ],
   "source": [
    "#Datatypes\n",
    "a = 5.5\n",
    "print(type(a)) #prints datatypes of a"
   ]
  },
  {
   "cell_type": "code",
   "execution_count": 18,
   "id": "a12270d8",
   "metadata": {},
   "outputs": [
    {
     "name": "stdout",
     "output_type": "stream",
     "text": [
      "<class 'list'>\n"
     ]
    }
   ],
   "source": [
    "a = [1,2.5,'b','c']\n",
    "print(type(a))"
   ]
  },
  {
   "cell_type": "code",
   "execution_count": 24,
   "id": "5000857e",
   "metadata": {},
   "outputs": [
    {
     "name": "stdout",
     "output_type": "stream",
     "text": [
      "(1+2j) is datatype of  True\n"
     ]
    }
   ],
   "source": [
    "a = 1+2j\n",
    "print(a,\"is datatype of \",(isinstance(a,complex))) #a is complex number"
   ]
  },
  {
   "cell_type": "code",
   "execution_count": 25,
   "id": "8ab3a76f",
   "metadata": {},
   "outputs": [
    {
     "name": "stdout",
     "output_type": "stream",
     "text": [
      "<class 'complex'>\n"
     ]
    }
   ],
   "source": [
    "print(type(a))"
   ]
  },
  {
   "cell_type": "code",
   "execution_count": 27,
   "id": "4f0e71c1",
   "metadata": {},
   "outputs": [
    {
     "name": "stdout",
     "output_type": "stream",
     "text": [
      "10 2.5 d\n",
      "<class 'str'>\n"
     ]
    }
   ],
   "source": [
    "#Multiple assignment\n",
    "a,b,c=10,2.5,'d'\n",
    "print(a,b,c)\n",
    "print(type(c)) "
   ]
  },
  {
   "cell_type": "code",
   "execution_count": 28,
   "id": "a3b2dd0e",
   "metadata": {},
   "outputs": [
    {
     "name": "stdout",
     "output_type": "stream",
     "text": [
      "12\n"
     ]
    }
   ],
   "source": [
    "#assign one value to multiple variable\n",
    "a=b=c=12\n",
    "print(b)"
   ]
  },
  {
   "cell_type": "code",
   "execution_count": 29,
   "id": "2d959aa8",
   "metadata": {},
   "outputs": [
    {
     "name": "stdout",
     "output_type": "stream",
     "text": [
      "12\n"
     ]
    }
   ],
   "source": [
    "print(a)"
   ]
  },
  {
   "cell_type": "markdown",
   "id": "eb5accc7",
   "metadata": {},
   "source": [
    "# Standard Input and Output"
   ]
  },
  {
   "cell_type": "code",
   "execution_count": 30,
   "id": "537a9ac9",
   "metadata": {},
   "outputs": [
    {
     "name": "stdout",
     "output_type": "stream",
     "text": [
      "Hello\n"
     ]
    }
   ],
   "source": [
    "#In order to display output we use print() function.\n",
    "print(\"Hello\")"
   ]
  },
  {
   "cell_type": "code",
   "execution_count": 36,
   "id": "9c06162a",
   "metadata": {},
   "outputs": [
    {
     "name": "stdout",
     "output_type": "stream",
     "text": [
      "The value of a is: 10\n"
     ]
    }
   ],
   "source": [
    "a = 10;\n",
    "print(\"The value of a is: \"+str(a)) \n",
    "#str(a) convert int to str\n",
    "#try removing str "
   ]
  },
  {
   "cell_type": "code",
   "execution_count": 37,
   "id": "d5c45c58",
   "metadata": {},
   "outputs": [
    {
     "name": "stdout",
     "output_type": "stream",
     "text": [
      "The value of a: 10 and value of b: 20 \n"
     ]
    }
   ],
   "source": [
    "#Output formating\n",
    "a=10;b=20;\n",
    "print(\"The value of a: {} and value of b: {} \".format(a,b))"
   ]
  },
  {
   "cell_type": "code",
   "execution_count": 39,
   "id": "d564a47b",
   "metadata": {},
   "outputs": [
    {
     "name": "stdout",
     "output_type": "stream",
     "text": [
      "The value of b is 20 and value of a is 10\n"
     ]
    }
   ],
   "source": [
    "#or\n",
    "print(\"The value of b is {1} and value of a is {0}\".format(a,b))"
   ]
  },
  {
   "cell_type": "markdown",
   "id": "827bdad1",
   "metadata": {},
   "source": [
    "# Operators\n",
    "- Operators are special symbol on Python, used to perform mathmatical operation.\n",
    "- The numbers on which the operations are perform are called operands."
   ]
  },
  {
   "cell_type": "markdown",
   "id": "bcd4ae97",
   "metadata": {},
   "source": [
    "###### Types of Operators\n",
    "1) Arithmetic 2) Relational(Comparision) 3) Logical(Boolean) 4) Bitwise 5) Assignment 6) Special"
   ]
  },
  {
   "cell_type": "code",
   "execution_count": 1,
   "id": "f93baa51",
   "metadata": {},
   "outputs": [
    {
     "name": "stdout",
     "output_type": "stream",
     "text": [
      "30\n"
     ]
    }
   ],
   "source": [
    "#Arithmetic \n",
    "#Used to perform operations like Addition,Subtraction,Multiplication,Division,Floor Division etc.\n",
    "x,y = 10,20\n",
    "print(x+y)"
   ]
  },
  {
   "cell_type": "code",
   "execution_count": 4,
   "id": "540a1c6f",
   "metadata": {},
   "outputs": [
    {
     "name": "stdout",
     "output_type": "stream",
     "text": [
      "5\n"
     ]
    }
   ],
   "source": [
    "a = 25\n",
    "b = 20\n",
    "print(a%b) #Modulo division operator (25/20=1, modulo = 5)"
   ]
  },
  {
   "cell_type": "code",
   "execution_count": 7,
   "id": "4069638e",
   "metadata": {},
   "outputs": [
    {
     "name": "stdout",
     "output_type": "stream",
     "text": [
      "2\n",
      "********************\n",
      "1\n"
     ]
    }
   ],
   "source": [
    "a = 5\n",
    "b = 2\n",
    "print(a//b) #floor division\n",
    "print(\"**\"*10)\n",
    "print(a%b)"
   ]
  },
  {
   "cell_type": "code",
   "execution_count": 9,
   "id": "a7f61dc6",
   "metadata": {},
   "outputs": [
    {
     "name": "stdout",
     "output_type": "stream",
     "text": [
      "16\n"
     ]
    }
   ],
   "source": [
    "a = 4\n",
    "b = 2\n",
    "print(a**b) #exponent "
   ]
  },
  {
   "cell_type": "code",
   "execution_count": 10,
   "id": "a1071d95",
   "metadata": {},
   "outputs": [
    {
     "name": "stdout",
     "output_type": "stream",
     "text": [
      "False\n"
     ]
    }
   ],
   "source": [
    "#Comparision\n",
    "#Return Boolean values \n",
    "a = 10\n",
    "b =20\n",
    "print(a==b)"
   ]
  },
  {
   "cell_type": "code",
   "execution_count": 11,
   "id": "07b73c3a",
   "metadata": {},
   "outputs": [
    {
     "name": "stdout",
     "output_type": "stream",
     "text": [
      "True\n"
     ]
    }
   ],
   "source": [
    "print(a!=b) #not equal to\n",
    "#print(a>b),(a>=b),(a<=b),(a<b)"
   ]
  },
  {
   "cell_type": "code",
   "execution_count": 12,
   "id": "87f0cbbc",
   "metadata": {},
   "outputs": [
    {
     "name": "stdout",
     "output_type": "stream",
     "text": [
      "False\n"
     ]
    }
   ],
   "source": [
    "#Logical= AND,OR,NOT\n",
    "a = True\n",
    "b = False\n",
    "print(a and b) "
   ]
  },
  {
   "cell_type": "code",
   "execution_count": 13,
   "id": "af154dcc",
   "metadata": {},
   "outputs": [
    {
     "name": "stdout",
     "output_type": "stream",
     "text": [
      "True\n"
     ]
    }
   ],
   "source": [
    "print(a or b)"
   ]
  },
  {
   "cell_type": "code",
   "execution_count": 17,
   "id": "9d93d9d8",
   "metadata": {},
   "outputs": [
    {
     "name": "stdout",
     "output_type": "stream",
     "text": [
      "False\n",
      "True\n"
     ]
    }
   ],
   "source": [
    "print(not (a))\n",
    "print(not(b))"
   ]
  },
  {
   "cell_type": "code",
   "execution_count": 18,
   "id": "df964a3e",
   "metadata": {},
   "outputs": [],
   "source": [
    "#BitWise: used to perform mathmatical operation bit by bit\n",
    "#Hard to understand for non-CS student(as a CS student its also hard for me to understand ;))\n",
    "#So not going to write it."
   ]
  },
  {
   "cell_type": "code",
   "execution_count": 19,
   "id": "3bfad77f",
   "metadata": {},
   "outputs": [
    {
     "name": "stdout",
     "output_type": "stream",
     "text": [
      "20\n"
     ]
    }
   ],
   "source": [
    "#Assignment Operator\n",
    "a = 10 #Simple assignment (=)\n",
    "a +=10 #addition and (+=)\n",
    "print(a)"
   ]
  },
  {
   "cell_type": "code",
   "execution_count": 20,
   "id": "14c263d1",
   "metadata": {},
   "outputs": [],
   "source": [
    "#Subtraction and(-=),Multiplication and(-=),Division and(/=), Modulo Division and(%=), Exponent and(**=)\n",
    "#are assignment operator"
   ]
  },
  {
   "cell_type": "code",
   "execution_count": 21,
   "id": "d43f9a7a",
   "metadata": {},
   "outputs": [
    {
     "name": "stdout",
     "output_type": "stream",
     "text": [
      "True\n"
     ]
    }
   ],
   "source": [
    "#Special Operator\n",
    "# A. Identity operator: use to check if two operands are pointing towards same memory location.\n",
    "# is and is not are identity operator.\n",
    "a = 5\n",
    "b = 5\n",
    "print(a is b)"
   ]
  },
  {
   "cell_type": "code",
   "execution_count": 24,
   "id": "c0567f95",
   "metadata": {},
   "outputs": [
    {
     "name": "stdout",
     "output_type": "stream",
     "text": [
      "False\n"
     ]
    }
   ],
   "source": [
    "a = [1,2,3,3,4]\n",
    "b = [1,2,3,3,4]\n",
    "#b= [1,2,3]\n",
    "print(a is b)\n",
    "#if two lists have the same elements in the same order, it doesnot mean they both are pointing to the same object.\n",
    "#And hence, it is giving the result here false."
   ]
  },
  {
   "cell_type": "code",
   "execution_count": 25,
   "id": "f381814e",
   "metadata": {},
   "outputs": [
    {
     "name": "stdout",
     "output_type": "stream",
     "text": [
      "True\n"
     ]
    }
   ],
   "source": [
    "s1 = 'Test'\n",
    "s2 = 'Test'\n",
    "print(s1 is s2)"
   ]
  },
  {
   "cell_type": "code",
   "execution_count": 26,
   "id": "0835988e",
   "metadata": {},
   "outputs": [
    {
     "name": "stdout",
     "output_type": "stream",
     "text": [
      "False\n"
     ]
    }
   ],
   "source": [
    "s1 = 'Test a'\n",
    "s2 = 'Test a'\n",
    "print(s1 is s2)"
   ]
  },
  {
   "cell_type": "code",
   "execution_count": 27,
   "id": "d0d042ee",
   "metadata": {},
   "outputs": [
    {
     "name": "stdout",
     "output_type": "stream",
     "text": [
      "False\n"
     ]
    }
   ],
   "source": [
    "s1 = 'aa'\n",
    "s2 = 'aa'\n",
    "print(s1 is not s2)"
   ]
  },
  {
   "cell_type": "code",
   "execution_count": 30,
   "id": "1dcf14eb",
   "metadata": {},
   "outputs": [
    {
     "name": "stdout",
     "output_type": "stream",
     "text": [
      "True\n",
      "False\n"
     ]
    }
   ],
   "source": [
    "#B. Membership Operator: used to check if a given object is a member of a given data structure or not.\n",
    "# 'in' and 'not in' are membership operators.\n",
    "a = [1,2,3,4,5]\n",
    "print(1 in a)\n",
    "print(6 in a)"
   ]
  },
  {
   "cell_type": "code",
   "execution_count": 33,
   "id": "568291b2",
   "metadata": {},
   "outputs": [
    {
     "name": "stdout",
     "output_type": "stream",
     "text": [
      "True\n"
     ]
    }
   ],
   "source": [
    "b = {1:'one',2:'two'} #dict: key:value\n",
    "print(1 in b) #only check in key"
   ]
  },
  {
   "cell_type": "markdown",
   "id": "08a8738b",
   "metadata": {},
   "source": [
    "## Control Flow: if else\n",
    "- Python if-elif-else statements are used in Python for decision making\n",
    "- If the given test expression is true, then only the statements with this block are executed."
   ]
  },
  {
   "cell_type": "code",
   "execution_count": 34,
   "id": "5c7a51b5",
   "metadata": {},
   "outputs": [
    {
     "name": "stdout",
     "output_type": "stream",
     "text": [
      "Num is less\n"
     ]
    }
   ],
   "source": [
    "num = 10\n",
    "if num>=11:\n",
    "    print(\"Num is greater\")\n",
    "else:\n",
    "    print(\"Num is less\")"
   ]
  },
  {
   "cell_type": "code",
   "execution_count": 38,
   "id": "6afa27fb",
   "metadata": {},
   "outputs": [
    {
     "name": "stdout",
     "output_type": "stream",
     "text": [
      "Negative number\n"
     ]
    }
   ],
   "source": [
    "num = -2\n",
    "if num>0:\n",
    "    print(\"Positive Number\")\n",
    "elif num==0:\n",
    "    print(\"Num is zero\")\n",
    "else:\n",
    "    print(\"Negative number\")"
   ]
  },
  {
   "cell_type": "code",
   "execution_count": 40,
   "id": "8b035277",
   "metadata": {},
   "outputs": [
    {
     "name": "stdout",
     "output_type": "stream",
     "text": [
      "Zero\n"
     ]
    }
   ],
   "source": [
    "num = 0\n",
    "if num>=0:\n",
    "    if num==0:\n",
    "        print(\"Zero\")\n",
    "    else:\n",
    "        print(\"Positive number\")\n",
    "else:\n",
    "    print(\"Negative number\")\n",
    "#this is called nested-loops"
   ]
  },
  {
   "cell_type": "code",
   "execution_count": 43,
   "id": "09a16af0",
   "metadata": {},
   "outputs": [
    {
     "name": "stdout",
     "output_type": "stream",
     "text": [
      "Enter first number: 5\n",
      "Enter second number: 5\n",
      "Enter 3rd number: 6\n",
      "Largest among 5,5 and 6 is: 6\n"
     ]
    }
   ],
   "source": [
    "#Python program to find largest of 3 numbers\n",
    "num1 = int(input('Enter first number: '))\n",
    "num2 = int(input('Enter second number: '))\n",
    "num3 = int(input(\"Enter 3rd number: \"))\n",
    "if (num1>=num2) and (num1>=num3):\n",
    "    largest=num1\n",
    "elif (num2>=num1) and (num2>=num3):\n",
    "    largest=num2\n",
    "else:\n",
    "    largest=num3\n",
    "print(\"Largest among {},{} and {} is: {}\".format(num1,num2,num3,largest))\n"
   ]
  },
  {
   "cell_type": "markdown",
   "id": "86790cba",
   "metadata": {},
   "source": [
    "## Control Flow: While Loop\n",
    "- The while loop in Python is used to iterate over a block of code as long as the test expression is True."
   ]
  },
  {
   "cell_type": "code",
   "execution_count": 47,
   "id": "2a066d9e",
   "metadata": {},
   "outputs": [
    {
     "name": "stdout",
     "output_type": "stream",
     "text": [
      "Product of given list a is:  120\n"
     ]
    }
   ],
   "source": [
    "#Find the product of the all number present in a list\n",
    "a = [1,2,3,4,5]\n",
    "product = 1\n",
    "#print(len(a))\n",
    "index = 0\n",
    "while index < len(a): #loop will run until this condition is satisfies, come out when index=5,and print, print statement\n",
    "    product *=a[index] #a[0]=1 at first iteration,in second a[1]=2; index increament by one on next line of code\n",
    "    index +=1 #if we forget this line, code will run into infinity loop\n",
    "print(\"Product of given list a is: \",product)"
   ]
  },
  {
   "cell_type": "code",
   "execution_count": 49,
   "id": "ec6d8943",
   "metadata": {},
   "outputs": [
    {
     "name": "stdout",
     "output_type": "stream",
     "text": [
      "1\n",
      "2\n",
      "3\n",
      "4\n",
      "5\n",
      "No Item left on list\n"
     ]
    }
   ],
   "source": [
    "#while loop with else\n",
    "a = [1,2,3,4,5] #list of 5 numbers as input\n",
    "index = 0\n",
    "while index<len(a): #while index<5\n",
    "    print(a[index])\n",
    "    index+=1\n",
    "else:\n",
    "    print(\"No Item left on list\")"
   ]
  },
  {
   "cell_type": "code",
   "execution_count": 54,
   "id": "021aa0ce",
   "metadata": {},
   "outputs": [
    {
     "name": "stdout",
     "output_type": "stream",
     "text": [
      "Enter a number: 2\n",
      "2 is a prime number\n"
     ]
    }
   ],
   "source": [
    "#To check whether the given number is prime or not\n",
    "num = int(input(\"Enter a number: \")) #if user input float, it will convert to int, not valid for other data point\n",
    "isDivisible = False;\n",
    "i = 2;\n",
    "while i<num:\n",
    "    if num % i==0: #to be prime number,should not be divisible by num1, or input itself\n",
    "        isDivisible=True;\n",
    "        print(\"{} is Divisible by {}\".format(num,i))\n",
    "    i+=1\n",
    "if isDivisible:\n",
    "    print(\"{} is not a prime number\".format(num))\n",
    "else:\n",
    "    print(\"{} is a prime number\".format(num))"
   ]
  },
  {
   "cell_type": "markdown",
   "id": "410a63ab",
   "metadata": {},
   "source": [
    "#Control Flow: For\n",
    "- The for loop in python is used to iterate over a sequences(like Lists,Tuples etc) or other iterable objects.\n",
    "- Iterating over a sequence is called a 'Traversal'."
   ]
  },
  {
   "cell_type": "code",
   "execution_count": 1,
   "id": "dba18117",
   "metadata": {},
   "outputs": [
    {
     "name": "stdout",
     "output_type": "stream",
     "text": [
      "120\n"
     ]
    }
   ],
   "source": [
    "#Find product of all elements present in a list\n",
    "a = [1,2,3,4,5]\n",
    "pr = 1\n",
    "for ele in a:\n",
    "    pr*=ele;\n",
    "print(pr)"
   ]
  },
  {
   "cell_type": "code",
   "execution_count": 2,
   "id": "8e4aba75",
   "metadata": {},
   "outputs": [
    {
     "name": "stdout",
     "output_type": "stream",
     "text": [
      "0\n",
      "1\n",
      "2\n",
      "3\n",
      "4\n",
      "5\n",
      "6\n",
      "7\n",
      "8\n",
      "9\n"
     ]
    }
   ],
   "source": [
    "#Range function\n",
    "for i in range(10):\n",
    "    print(i)"
   ]
  },
  {
   "cell_type": "code",
   "execution_count": 3,
   "id": "daa93a52",
   "metadata": {},
   "outputs": [
    {
     "name": "stdout",
     "output_type": "stream",
     "text": [
      "1\n",
      "3\n",
      "5\n",
      "7\n",
      "9\n",
      "11\n",
      "13\n",
      "15\n",
      "17\n",
      "19\n"
     ]
    }
   ],
   "source": [
    "for i in range(1,20,2): #start,end,stepsize\n",
    "    print(i)\n",
    "    "
   ]
  },
  {
   "cell_type": "code",
   "execution_count": 4,
   "id": "a1766043",
   "metadata": {},
   "outputs": [
    {
     "name": "stdout",
     "output_type": "stream",
     "text": [
      "1\n",
      "2\n",
      "3\n",
      "No item left\n"
     ]
    }
   ],
   "source": [
    "#For loop with else\n",
    "num = [1,2,3]\n",
    "#iterating over a list\n",
    "for n in num:\n",
    "    print(n)\n",
    "else:\n",
    "    print(\"No item left\")"
   ]
  },
  {
   "cell_type": "code",
   "execution_count": 8,
   "id": "1689f59e",
   "metadata": {},
   "outputs": [
    {
     "name": "stdout",
     "output_type": "stream",
     "text": [
      "2\n",
      "4\n",
      "No\n"
     ]
    }
   ],
   "source": [
    "num = [1,2,3,4]\n",
    "for n in num:\n",
    "    if n%2==0:\n",
    "        print(n)\n",
    "    continue\n",
    "    #break\n",
    "else:\n",
    "    print(\"No item left\")"
   ]
  },
  {
   "cell_type": "code",
   "execution_count": 9,
   "id": "70b74a5b",
   "metadata": {},
   "outputs": [
    {
     "name": "stdout",
     "output_type": "stream",
     "text": [
      "Prime numbers between 20 and 50 are: \n",
      "23\n",
      "29\n",
      "31\n",
      "37\n",
      "41\n",
      "43\n",
      "47\n"
     ]
    }
   ],
   "source": [
    "#Python Program to find prime number between interval of two numbers using For Loop\n",
    "num1 = 20\n",
    "num2 = 50\n",
    "print(\"Prime numbers between {} and {} are: \".format(num1,num2))\n",
    "for num in range(num1,num2+1):\n",
    "    if num>1:\n",
    "        isDivisible=False\n",
    "        for index in range(2,num):\n",
    "            if num%index==0:\n",
    "                isDivisible=True\n",
    "        if not isDivisible:\n",
    "            print(num);"
   ]
  },
  {
   "cell_type": "markdown",
   "id": "376fffd2",
   "metadata": {},
   "source": [
    "# Control Flow: break and continue\n",
    "- break and continue statements can alter the flow of any loop."
   ]
  },
  {
   "cell_type": "code",
   "execution_count": 6,
   "id": "9917841f",
   "metadata": {},
   "outputs": [
    {
     "name": "stdout",
     "output_type": "stream",
     "text": [
      "1\n",
      "2\n",
      "3\n",
      "This will print always\n"
     ]
    }
   ],
   "source": [
    "numbers = [1,2,3,4,5,6]\n",
    "for num in numbers:\n",
    "    if num==4: #try num==7\n",
    "        break\n",
    "    print(num)\n",
    "else:\n",
    "    print(\"In the else block\") \n",
    "print(\"This will print always\") #outside for loop"
   ]
  },
  {
   "cell_type": "code",
   "execution_count": 11,
   "id": "d1d3f6e8",
   "metadata": {},
   "outputs": [
    {
     "name": "stdout",
     "output_type": "stream",
     "text": [
      "1\n",
      "2\n",
      "3\n",
      "5\n",
      "6\n",
      "else part\n"
     ]
    }
   ],
   "source": [
    "num = [1,2,3,4,5,6]\n",
    "for n in num:\n",
    "    if n==4:\n",
    "        continue #if n==4 it goes back to for loop without executing print statement\n",
    "    print(n)\n",
    "else:\n",
    "    print(\"else part\")"
   ]
  },
  {
   "cell_type": "code",
   "execution_count": 12,
   "id": "cbb53ea9",
   "metadata": {},
   "outputs": [
    {
     "name": "stdout",
     "output_type": "stream",
     "text": [
      "1\n",
      "3\n",
      "5\n"
     ]
    }
   ],
   "source": [
    "num = [1,2,3,4,5,6]\n",
    "for n in num:\n",
    "    if n%2==0:\n",
    "        continue\n",
    "    print(n)"
   ]
  },
  {
   "cell_type": "code",
   "execution_count": 19,
   "id": "06e02e9c",
   "metadata": {},
   "outputs": [
    {
     "name": "stdout",
     "output_type": "stream",
     "text": [
      "Enter a number: 8\n",
      "8 is Divisible by 2\n",
      "8 is not a prime number\n"
     ]
    }
   ],
   "source": [
    "#example for usage of break statement in Prime number program\n",
    "num = int(input(\"Enter a number: \"))\n",
    "isDivisible=False;\n",
    "i =2;\n",
    "while i<num:\n",
    "    if num % i==0:\n",
    "        isDivisible=True;\n",
    "        print(\"{} is Divisible by {}\".format(num,i))\n",
    "        break;\n",
    "    i+=1;\n",
    "if isDivisible:\n",
    "    print(\"{} is not a prime number\".format(num))\n",
    "else:\n",
    "    print('{} is a prime number'.format(num))"
   ]
  },
  {
   "cell_type": "code",
   "execution_count": null,
   "id": "091c1457",
   "metadata": {},
   "outputs": [],
   "source": []
  }
 ],
 "metadata": {
  "kernelspec": {
   "display_name": "Python 3 (ipykernel)",
   "language": "python",
   "name": "python3"
  },
  "language_info": {
   "codemirror_mode": {
    "name": "ipython",
    "version": 3
   },
   "file_extension": ".py",
   "mimetype": "text/x-python",
   "name": "python",
   "nbconvert_exporter": "python",
   "pygments_lexer": "ipython3",
   "version": "3.11.5"
  }
 },
 "nbformat": 4,
 "nbformat_minor": 5
}
